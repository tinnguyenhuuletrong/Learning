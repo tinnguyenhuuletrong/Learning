{
 "metadata": {
  "language_info": {
   "codemirror_mode": {
    "name": "ipython",
    "version": 3
   },
   "file_extension": ".py",
   "mimetype": "text/x-python",
   "name": "python",
   "nbconvert_exporter": "python",
   "pygments_lexer": "ipython3",
   "version": "3.9.5"
  },
  "orig_nbformat": 4,
  "kernelspec": {
   "name": "python3",
   "display_name": "Python 3.9.5 64-bit ('runner-env': venv)"
  },
  "interpreter": {
   "hash": "5df955b65726acf271ee05cf578eb1319355a1984163bb26cc6a1775e7b36f87"
  }
 },
 "nbformat": 4,
 "nbformat_minor": 2,
 "cells": [
  {
   "cell_type": "code",
   "execution_count": 55,
   "metadata": {
    "tags": [
     "outputPrepend"
    ]
   },
   "outputs": [
    {
     "output_type": "stream",
     "name": "stdout",
     "text": [
      " keras>=2.2.0 in ./runner-env/lib/python3.9/site-packages (from deepface) (2.4.3)\n",
      "Requirement already satisfied: Pillow>=5.2.0 in ./runner-env/lib/python3.9/site-packages (from deepface) (8.3.0)\n",
      "Requirement already satisfied: tqdm>=4.30.0 in ./runner-env/lib/python3.9/site-packages (from deepface) (4.61.1)\n",
      "Requirement already satisfied: pandas>=0.23.4 in ./runner-env/lib/python3.9/site-packages (from deepface) (1.3.0)\n",
      "Requirement already satisfied: tensorflow>=1.9.0 in ./runner-env/lib/python3.9/site-packages (from deepface) (2.5.0)\n",
      "Requirement already satisfied: mtcnn>=0.1.0 in ./runner-env/lib/python3.9/site-packages (from deepface) (0.1.0)\n",
      "Requirement already satisfied: retina-face>=0.0.1 in ./runner-env/lib/python3.9/site-packages (from deepface) (0.0.4)\n",
      "Requirement already satisfied: opencv-python>=3.4.4 in ./runner-env/lib/python3.9/site-packages (from deepface) (4.5.2.54)\n",
      "Requirement already satisfied: gdown>=3.10.1 in ./runner-env/lib/python3.9/site-packages (from deepface) (3.13.0)\n",
      "Requirement already satisfied: numpy>=1.14.0 in ./runner-env/lib/python3.9/site-packages (from deepface) (1.19.5)\n",
      "Requirement already satisfied: Jinja2>=3.0 in ./runner-env/lib/python3.9/site-packages (from Flask>=1.1.2->deepface) (3.0.1)\n",
      "Requirement already satisfied: Werkzeug>=2.0 in ./runner-env/lib/python3.9/site-packages (from Flask>=1.1.2->deepface) (2.0.1)\n",
      "Requirement already satisfied: click>=7.1.2 in ./runner-env/lib/python3.9/site-packages (from Flask>=1.1.2->deepface) (8.0.1)\n",
      "Requirement already satisfied: itsdangerous>=2.0 in ./runner-env/lib/python3.9/site-packages (from Flask>=1.1.2->deepface) (2.0.1)\n",
      "Requirement already satisfied: requests[socks]>=2.12.0 in ./runner-env/lib/python3.9/site-packages (from gdown>=3.10.1->deepface) (2.25.1)\n",
      "Requirement already satisfied: six in ./runner-env/lib/python3.9/site-packages (from gdown>=3.10.1->deepface) (1.15.0)\n",
      "Requirement already satisfied: filelock in ./runner-env/lib/python3.9/site-packages (from gdown>=3.10.1->deepface) (3.0.12)\n",
      "Requirement already satisfied: MarkupSafe>=2.0 in ./runner-env/lib/python3.9/site-packages (from Jinja2>=3.0->Flask>=1.1.2->deepface) (2.0.1)\n",
      "Requirement already satisfied: h5py in ./runner-env/lib/python3.9/site-packages (from keras>=2.2.0->deepface) (3.1.0)\n",
      "Requirement already satisfied: pyyaml in ./runner-env/lib/python3.9/site-packages (from keras>=2.2.0->deepface) (5.4.1)\n",
      "Requirement already satisfied: scipy>=0.14 in ./runner-env/lib/python3.9/site-packages (from keras>=2.2.0->deepface) (1.7.0)\n",
      "Requirement already satisfied: pytz>=2017.3 in ./runner-env/lib/python3.9/site-packages (from pandas>=0.23.4->deepface) (2021.1)\n",
      "Requirement already satisfied: python-dateutil>=2.7.3 in ./runner-env/lib/python3.9/site-packages (from pandas>=0.23.4->deepface) (2.8.1)\n",
      "Requirement already satisfied: urllib3<1.27,>=1.21.1 in ./runner-env/lib/python3.9/site-packages (from requests[socks]>=2.12.0->gdown>=3.10.1->deepface) (1.26.6)\n",
      "Requirement already satisfied: certifi>=2017.4.17 in ./runner-env/lib/python3.9/site-packages (from requests[socks]>=2.12.0->gdown>=3.10.1->deepface) (2021.5.30)\n",
      "Requirement already satisfied: idna<3,>=2.5 in ./runner-env/lib/python3.9/site-packages (from requests[socks]>=2.12.0->gdown>=3.10.1->deepface) (2.10)\n",
      "Requirement already satisfied: chardet<5,>=3.0.2 in ./runner-env/lib/python3.9/site-packages (from requests[socks]>=2.12.0->gdown>=3.10.1->deepface) (4.0.0)\n",
      "Requirement already satisfied: PySocks!=1.5.7,>=1.5.6 in ./runner-env/lib/python3.9/site-packages (from requests[socks]>=2.12.0->gdown>=3.10.1->deepface) (1.7.1)\n",
      "Requirement already satisfied: absl-py~=0.10 in ./runner-env/lib/python3.9/site-packages (from tensorflow>=1.9.0->deepface) (0.13.0)\n",
      "Requirement already satisfied: opt-einsum~=3.3.0 in ./runner-env/lib/python3.9/site-packages (from tensorflow>=1.9.0->deepface) (3.3.0)\n",
      "Requirement already satisfied: astunparse~=1.6.3 in ./runner-env/lib/python3.9/site-packages (from tensorflow>=1.9.0->deepface) (1.6.3)\n",
      "Requirement already satisfied: tensorboard~=2.5 in ./runner-env/lib/python3.9/site-packages (from tensorflow>=1.9.0->deepface) (2.5.0)\n",
      "Requirement already satisfied: gast==0.4.0 in ./runner-env/lib/python3.9/site-packages (from tensorflow>=1.9.0->deepface) (0.4.0)\n",
      "Requirement already satisfied: wrapt~=1.12.1 in ./runner-env/lib/python3.9/site-packages (from tensorflow>=1.9.0->deepface) (1.12.1)\n",
      "Requirement already satisfied: wheel~=0.35 in ./runner-env/lib/python3.9/site-packages (from tensorflow>=1.9.0->deepface) (0.36.2)\n",
      "Requirement already satisfied: typing-extensions~=3.7.4 in ./runner-env/lib/python3.9/site-packages (from tensorflow>=1.9.0->deepface) (3.7.4.3)\n",
      "Requirement already satisfied: termcolor~=1.1.0 in ./runner-env/lib/python3.9/site-packages (from tensorflow>=1.9.0->deepface) (1.1.0)\n",
      "Requirement already satisfied: google-pasta~=0.2 in ./runner-env/lib/python3.9/site-packages (from tensorflow>=1.9.0->deepface) (0.2.0)\n",
      "Requirement already satisfied: protobuf>=3.9.2 in ./runner-env/lib/python3.9/site-packages (from tensorflow>=1.9.0->deepface) (3.17.3)\n",
      "Requirement already satisfied: keras-nightly~=2.5.0.dev in ./runner-env/lib/python3.9/site-packages (from tensorflow>=1.9.0->deepface) (2.5.0.dev2021032900)\n",
      "Requirement already satisfied: flatbuffers~=1.12.0 in ./runner-env/lib/python3.9/site-packages (from tensorflow>=1.9.0->deepface) (1.12)\n",
      "Requirement already satisfied: tensorflow-estimator<2.6.0,>=2.5.0rc0 in ./runner-env/lib/python3.9/site-packages (from tensorflow>=1.9.0->deepface) (2.5.0)\n",
      "Requirement already satisfied: grpcio~=1.34.0 in ./runner-env/lib/python3.9/site-packages (from tensorflow>=1.9.0->deepface) (1.34.1)\n",
      "Requirement already satisfied: keras-preprocessing~=1.1.2 in ./runner-env/lib/python3.9/site-packages (from tensorflow>=1.9.0->deepface) (1.1.2)\n",
      "Requirement already satisfied: tensorboard-plugin-wit>=1.6.0 in ./runner-env/lib/python3.9/site-packages (from tensorboard~=2.5->tensorflow>=1.9.0->deepface) (1.8.0)\n",
      "Requirement already satisfied: setuptools>=41.0.0 in ./runner-env/lib/python3.9/site-packages (from tensorboard~=2.5->tensorflow>=1.9.0->deepface) (56.0.0)\n",
      "Requirement already satisfied: tensorboard-data-server<0.7.0,>=0.6.0 in ./runner-env/lib/python3.9/site-packages (from tensorboard~=2.5->tensorflow>=1.9.0->deepface) (0.6.1)\n",
      "Requirement already satisfied: markdown>=2.6.8 in ./runner-env/lib/python3.9/site-packages (from tensorboard~=2.5->tensorflow>=1.9.0->deepface) (3.3.4)\n",
      "Requirement already satisfied: google-auth-oauthlib<0.5,>=0.4.1 in ./runner-env/lib/python3.9/site-packages (from tensorboard~=2.5->tensorflow>=1.9.0->deepface) (0.4.4)\n",
      "Requirement already satisfied: google-auth<2,>=1.6.3 in ./runner-env/lib/python3.9/site-packages (from tensorboard~=2.5->tensorflow>=1.9.0->deepface) (1.32.1)\n",
      "Requirement already satisfied: cachetools<5.0,>=2.0.0 in ./runner-env/lib/python3.9/site-packages (from google-auth<2,>=1.6.3->tensorboard~=2.5->tensorflow>=1.9.0->deepface) (4.2.2)\n",
      "Requirement already satisfied: pyasn1-modules>=0.2.1 in ./runner-env/lib/python3.9/site-packages (from google-auth<2,>=1.6.3->tensorboard~=2.5->tensorflow>=1.9.0->deepface) (0.2.8)\n",
      "Requirement already satisfied: rsa<5,>=3.1.4 in ./runner-env/lib/python3.9/site-packages (from google-auth<2,>=1.6.3->tensorboard~=2.5->tensorflow>=1.9.0->deepface) (4.7.2)\n",
      "Requirement already satisfied: requests-oauthlib>=0.7.0 in ./runner-env/lib/python3.9/site-packages (from google-auth-oauthlib<0.5,>=0.4.1->tensorboard~=2.5->tensorflow>=1.9.0->deepface) (1.3.0)\n",
      "Requirement already satisfied: pyasn1<0.5.0,>=0.4.6 in ./runner-env/lib/python3.9/site-packages (from pyasn1-modules>=0.2.1->google-auth<2,>=1.6.3->tensorboard~=2.5->tensorflow>=1.9.0->deepface) (0.4.8)\n",
      "Requirement already satisfied: oauthlib>=3.0.0 in ./runner-env/lib/python3.9/site-packages (from requests-oauthlib>=0.7.0->google-auth-oauthlib<0.5,>=0.4.1->tensorboard~=2.5->tensorflow>=1.9.0->deepface) (3.1.1)\n",
      "\u001b[33mWARNING: You are using pip version 21.1.1; however, version 21.1.3 is available.\n",
      "You should consider upgrading via the '/Users/admin/Documents/tmp/python_play/face/runner-env/bin/python3.9 -m pip install --upgrade pip' command.\u001b[0m\n",
      "Requirement already satisfied: matplotlib in ./runner-env/lib/python3.9/site-packages (3.4.2)\n",
      "Requirement already satisfied: kiwisolver>=1.0.1 in ./runner-env/lib/python3.9/site-packages (from matplotlib) (1.3.1)\n",
      "Requirement already satisfied: numpy>=1.16 in ./runner-env/lib/python3.9/site-packages (from matplotlib) (1.19.5)\n",
      "Requirement already satisfied: cycler>=0.10 in ./runner-env/lib/python3.9/site-packages (from matplotlib) (0.10.0)\n",
      "Requirement already satisfied: python-dateutil>=2.7 in ./runner-env/lib/python3.9/site-packages (from matplotlib) (2.8.1)\n",
      "Requirement already satisfied: pyparsing>=2.2.1 in ./runner-env/lib/python3.9/site-packages (from matplotlib) (2.4.7)\n",
      "Requirement already satisfied: pillow>=6.2.0 in ./runner-env/lib/python3.9/site-packages (from matplotlib) (8.3.0)\n",
      "Requirement already satisfied: six in ./runner-env/lib/python3.9/site-packages (from cycler>=0.10->matplotlib) (1.15.0)\n",
      "\u001b[33mWARNING: You are using pip version 21.1.1; however, version 21.1.3 is available.\n",
      "You should consider upgrading via the '/Users/admin/Documents/tmp/python_play/face/runner-env/bin/python3.9 -m pip install --upgrade pip' command.\u001b[0m\n",
      "Requirement already satisfied: ipympl in ./runner-env/lib/python3.9/site-packages (0.7.0)\n",
      "Requirement already satisfied: matplotlib>=2.0.0 in ./runner-env/lib/python3.9/site-packages (from ipympl) (3.4.2)\n",
      "Requirement already satisfied: ipykernel>=4.7 in ./runner-env/lib/python3.9/site-packages (from ipympl) (6.0.1)\n",
      "Requirement already satisfied: ipywidgets>=7.6.0 in ./runner-env/lib/python3.9/site-packages (from ipympl) (7.6.3)\n",
      "Requirement already satisfied: tornado>=4.2 in ./runner-env/lib/python3.9/site-packages (from ipykernel>=4.7->ipympl) (6.1)\n",
      "Requirement already satisfied: ipython>=7.23.1 in ./runner-env/lib/python3.9/site-packages (from ipykernel>=4.7->ipympl) (7.25.0)\n",
      "Requirement already satisfied: debugpy>=1.0.0 in ./runner-env/lib/python3.9/site-packages (from ipykernel>=4.7->ipympl) (1.3.0)\n",
      "Requirement already satisfied: jupyter-client in ./runner-env/lib/python3.9/site-packages (from ipykernel>=4.7->ipympl) (6.1.12)\n",
      "Requirement already satisfied: matplotlib-inline<0.2.0appnope,>=0.1.0 in ./runner-env/lib/python3.9/site-packages (from ipykernel>=4.7->ipympl) (0.1.2)\n",
      "Requirement already satisfied: traitlets>=4.1.0 in ./runner-env/lib/python3.9/site-packages (from ipykernel>=4.7->ipympl) (5.0.5)\n",
      "Requirement already satisfied: pickleshare in ./runner-env/lib/python3.9/site-packages (from ipython>=7.23.1->ipykernel>=4.7->ipympl) (0.7.5)\n",
      "Requirement already satisfied: pygments in ./runner-env/lib/python3.9/site-packages (from ipython>=7.23.1->ipykernel>=4.7->ipympl) (2.9.0)\n",
      "Requirement already satisfied: backcall in ./runner-env/lib/python3.9/site-packages (from ipython>=7.23.1->ipykernel>=4.7->ipympl) (0.2.0)\n",
      "Requirement already satisfied: pexpect>4.3 in ./runner-env/lib/python3.9/site-packages (from ipython>=7.23.1->ipykernel>=4.7->ipympl) (4.8.0)\n",
      "Requirement already satisfied: decorator in ./runner-env/lib/python3.9/site-packages (from ipython>=7.23.1->ipykernel>=4.7->ipympl) (5.0.9)\n",
      "Requirement already satisfied: setuptools>=18.5 in ./runner-env/lib/python3.9/site-packages (from ipython>=7.23.1->ipykernel>=4.7->ipympl) (56.0.0)\n",
      "Requirement already satisfied: prompt-toolkit!=3.0.0,!=3.0.1,<3.1.0,>=2.0.0 in ./runner-env/lib/python3.9/site-packages (from ipython>=7.23.1->ipykernel>=4.7->ipympl) (3.0.19)\n",
      "Requirement already satisfied: appnope in ./runner-env/lib/python3.9/site-packages (from ipython>=7.23.1->ipykernel>=4.7->ipympl) (0.1.2)\n",
      "Requirement already satisfied: jedi>=0.16 in ./runner-env/lib/python3.9/site-packages (from ipython>=7.23.1->ipykernel>=4.7->ipympl) (0.18.0)\n",
      "Requirement already satisfied: widgetsnbextension~=3.5.0 in ./runner-env/lib/python3.9/site-packages (from ipywidgets>=7.6.0->ipympl) (3.5.1)\n",
      "Requirement already satisfied: jupyterlab-widgets>=1.0.0 in ./runner-env/lib/python3.9/site-packages (from ipywidgets>=7.6.0->ipympl) (1.0.0)\n",
      "Requirement already satisfied: nbformat>=4.2.0 in ./runner-env/lib/python3.9/site-packages (from ipywidgets>=7.6.0->ipympl) (5.1.3)\n",
      "Requirement already satisfied: parso<0.9.0,>=0.8.0 in ./runner-env/lib/python3.9/site-packages (from jedi>=0.16->ipython>=7.23.1->ipykernel>=4.7->ipympl) (0.8.2)\n",
      "Requirement already satisfied: pillow>=6.2.0 in ./runner-env/lib/python3.9/site-packages (from matplotlib>=2.0.0->ipympl) (8.3.0)\n",
      "Requirement already satisfied: kiwisolver>=1.0.1 in ./runner-env/lib/python3.9/site-packages (from matplotlib>=2.0.0->ipympl) (1.3.1)\n",
      "Requirement already satisfied: pyparsing>=2.2.1 in ./runner-env/lib/python3.9/site-packages (from matplotlib>=2.0.0->ipympl) (2.4.7)\n",
      "Requirement already satisfied: cycler>=0.10 in ./runner-env/lib/python3.9/site-packages (from matplotlib>=2.0.0->ipympl) (0.10.0)\n",
      "Requirement already satisfied: python-dateutil>=2.7 in ./runner-env/lib/python3.9/site-packages (from matplotlib>=2.0.0->ipympl) (2.8.1)\n",
      "Requirement already satisfied: numpy>=1.16 in ./runner-env/lib/python3.9/site-packages (from matplotlib>=2.0.0->ipympl) (1.19.5)\n",
      "Requirement already satisfied: six in ./runner-env/lib/python3.9/site-packages (from cycler>=0.10->matplotlib>=2.0.0->ipympl) (1.15.0)\n",
      "Requirement already satisfied: jsonschema!=2.5.0,>=2.4 in ./runner-env/lib/python3.9/site-packages (from nbformat>=4.2.0->ipywidgets>=7.6.0->ipympl) (3.2.0)\n",
      "Requirement already satisfied: jupyter-core in ./runner-env/lib/python3.9/site-packages (from nbformat>=4.2.0->ipywidgets>=7.6.0->ipympl) (4.7.1)\n",
      "Requirement already satisfied: ipython-genutils in ./runner-env/lib/python3.9/site-packages (from nbformat>=4.2.0->ipywidgets>=7.6.0->ipympl) (0.2.0)\n",
      "Requirement already satisfied: pyrsistent>=0.14.0 in ./runner-env/lib/python3.9/site-packages (from jsonschema!=2.5.0,>=2.4->nbformat>=4.2.0->ipywidgets>=7.6.0->ipympl) (0.18.0)\n",
      "Requirement already satisfied: attrs>=17.4.0 in ./runner-env/lib/python3.9/site-packages (from jsonschema!=2.5.0,>=2.4->nbformat>=4.2.0->ipywidgets>=7.6.0->ipympl) (21.2.0)\n",
      "Requirement already satisfied: ptyprocess>=0.5 in ./runner-env/lib/python3.9/site-packages (from pexpect>4.3->ipython>=7.23.1->ipykernel>=4.7->ipympl) (0.7.0)\n",
      "Requirement already satisfied: wcwidth in ./runner-env/lib/python3.9/site-packages (from prompt-toolkit!=3.0.0,!=3.0.1,<3.1.0,>=2.0.0->ipython>=7.23.1->ipykernel>=4.7->ipympl) (0.2.5)\n",
      "Requirement already satisfied: notebook>=4.4.1 in ./runner-env/lib/python3.9/site-packages (from widgetsnbextension~=3.5.0->ipywidgets>=7.6.0->ipympl) (6.4.0)\n",
      "Requirement already satisfied: nbconvert in ./runner-env/lib/python3.9/site-packages (from notebook>=4.4.1->widgetsnbextension~=3.5.0->ipywidgets>=7.6.0->ipympl) (6.1.0)\n",
      "Requirement already satisfied: prometheus-client in ./runner-env/lib/python3.9/site-packages (from notebook>=4.4.1->widgetsnbextension~=3.5.0->ipywidgets>=7.6.0->ipympl) (0.11.0)\n",
      "Requirement already satisfied: pyzmq>=17 in ./runner-env/lib/python3.9/site-packages (from notebook>=4.4.1->widgetsnbextension~=3.5.0->ipywidgets>=7.6.0->ipympl) (22.1.0)\n",
      "Requirement already satisfied: Send2Trash>=1.5.0 in ./runner-env/lib/python3.9/site-packages (from notebook>=4.4.1->widgetsnbextension~=3.5.0->ipywidgets>=7.6.0->ipympl) (1.7.1)\n",
      "Requirement already satisfied: terminado>=0.8.3 in ./runner-env/lib/python3.9/site-packages (from notebook>=4.4.1->widgetsnbextension~=3.5.0->ipywidgets>=7.6.0->ipympl) (0.10.1)\n",
      "Requirement already satisfied: argon2-cffi in ./runner-env/lib/python3.9/site-packages (from notebook>=4.4.1->widgetsnbextension~=3.5.0->ipywidgets>=7.6.0->ipympl) (20.1.0)\n",
      "Requirement already satisfied: jinja2 in ./runner-env/lib/python3.9/site-packages (from notebook>=4.4.1->widgetsnbextension~=3.5.0->ipywidgets>=7.6.0->ipympl) (3.0.1)\n",
      "Requirement already satisfied: cffi>=1.0.0 in ./runner-env/lib/python3.9/site-packages (from argon2-cffi->notebook>=4.4.1->widgetsnbextension~=3.5.0->ipywidgets>=7.6.0->ipympl) (1.14.5)\n",
      "Requirement already satisfied: pycparser in ./runner-env/lib/python3.9/site-packages (from cffi>=1.0.0->argon2-cffi->notebook>=4.4.1->widgetsnbextension~=3.5.0->ipywidgets>=7.6.0->ipympl) (2.20)\n",
      "Requirement already satisfied: MarkupSafe>=2.0 in ./runner-env/lib/python3.9/site-packages (from jinja2->notebook>=4.4.1->widgetsnbextension~=3.5.0->ipywidgets>=7.6.0->ipympl) (2.0.1)\n",
      "Requirement already satisfied: mistune<2,>=0.8.1 in ./runner-env/lib/python3.9/site-packages (from nbconvert->notebook>=4.4.1->widgetsnbextension~=3.5.0->ipywidgets>=7.6.0->ipympl) (0.8.4)\n",
      "Requirement already satisfied: defusedxml in ./runner-env/lib/python3.9/site-packages (from nbconvert->notebook>=4.4.1->widgetsnbextension~=3.5.0->ipywidgets>=7.6.0->ipympl) (0.7.1)\n",
      "Requirement already satisfied: jupyterlab-pygments in ./runner-env/lib/python3.9/site-packages (from nbconvert->notebook>=4.4.1->widgetsnbextension~=3.5.0->ipywidgets>=7.6.0->ipympl) (0.1.2)\n",
      "Requirement already satisfied: testpath in ./runner-env/lib/python3.9/site-packages (from nbconvert->notebook>=4.4.1->widgetsnbextension~=3.5.0->ipywidgets>=7.6.0->ipympl) (0.5.0)\n",
      "Requirement already satisfied: bleach in ./runner-env/lib/python3.9/site-packages (from nbconvert->notebook>=4.4.1->widgetsnbextension~=3.5.0->ipywidgets>=7.6.0->ipympl) (3.3.0)\n",
      "Requirement already satisfied: nbclient<0.6.0,>=0.5.0 in ./runner-env/lib/python3.9/site-packages (from nbconvert->notebook>=4.4.1->widgetsnbextension~=3.5.0->ipywidgets>=7.6.0->ipympl) (0.5.3)\n",
      "Requirement already satisfied: pandocfilters>=1.4.1 in ./runner-env/lib/python3.9/site-packages (from nbconvert->notebook>=4.4.1->widgetsnbextension~=3.5.0->ipywidgets>=7.6.0->ipympl) (1.4.3)\n",
      "Requirement already satisfied: entrypoints>=0.2.2 in ./runner-env/lib/python3.9/site-packages (from nbconvert->notebook>=4.4.1->widgetsnbextension~=3.5.0->ipywidgets>=7.6.0->ipympl) (0.3)\n",
      "Requirement already satisfied: nest-asyncio in ./runner-env/lib/python3.9/site-packages (from nbclient<0.6.0,>=0.5.0->nbconvert->notebook>=4.4.1->widgetsnbextension~=3.5.0->ipywidgets>=7.6.0->ipympl) (1.5.1)\n",
      "Requirement already satisfied: async-generator in ./runner-env/lib/python3.9/site-packages (from nbclient<0.6.0,>=0.5.0->nbconvert->notebook>=4.4.1->widgetsnbextension~=3.5.0->ipywidgets>=7.6.0->ipympl) (1.10)\n",
      "Requirement already satisfied: webencodings in ./runner-env/lib/python3.9/site-packages (from bleach->nbconvert->notebook>=4.4.1->widgetsnbextension~=3.5.0->ipywidgets>=7.6.0->ipympl) (0.5.1)\n",
      "Requirement already satisfied: packaging in ./runner-env/lib/python3.9/site-packages (from bleach->nbconvert->notebook>=4.4.1->widgetsnbextension~=3.5.0->ipywidgets>=7.6.0->ipympl) (21.0)\n",
      "\u001b[33mWARNING: You are using pip version 21.1.1; however, version 21.1.3 is available.\n",
      "You should consider upgrading via the '/Users/admin/Documents/tmp/python_play/face/runner-env/bin/python3.9 -m pip install --upgrade pip' command.\u001b[0m\n",
      "Requirement already satisfied: lightgbm in ./runner-env/lib/python3.9/site-packages (3.2.1)\n",
      "Requirement already satisfied: scipy in ./runner-env/lib/python3.9/site-packages (from lightgbm) (1.7.0)\n",
      "Requirement already satisfied: numpy in ./runner-env/lib/python3.9/site-packages (from lightgbm) (1.19.5)\n",
      "Requirement already satisfied: scikit-learn!=0.22.0 in ./runner-env/lib/python3.9/site-packages (from lightgbm) (0.24.2)\n",
      "Requirement already satisfied: wheel in ./runner-env/lib/python3.9/site-packages (from lightgbm) (0.36.2)\n",
      "Requirement already satisfied: threadpoolctl>=2.0.0 in ./runner-env/lib/python3.9/site-packages (from scikit-learn!=0.22.0->lightgbm) (2.1.0)\n",
      "Requirement already satisfied: joblib>=0.11 in ./runner-env/lib/python3.9/site-packages (from scikit-learn!=0.22.0->lightgbm) (1.0.1)\n",
      "\u001b[33mWARNING: You are using pip version 21.1.1; however, version 21.1.3 is available.\n",
      "You should consider upgrading via the '/Users/admin/Documents/tmp/python_play/face/runner-env/bin/python3.9 -m pip install --upgrade pip' command.\u001b[0m\n"
     ]
    }
   ],
   "source": [
    "!pip install deepface\n",
    "!pip install matplotlib\n",
    "!pip install ipympl\n",
    "!pip install lightgbm"
   ]
  },
  {
   "cell_type": "code",
   "execution_count": 56,
   "metadata": {},
   "outputs": [],
   "source": [
    "%matplotlib widget\n",
    "from deepface import DeepFace\n",
    "import matplotlib.pyplot as plt\n",
    "import pandas as pd\n",
    "import pickle\n",
    "import os"
   ]
  },
  {
   "source": [
    "## Paths & model supported"
   ],
   "cell_type": "markdown",
   "metadata": {}
  },
  {
   "cell_type": "code",
   "execution_count": 57,
   "metadata": {},
   "outputs": [],
   "source": [
    "ROOT_DATA_DIR = os.path.abspath('dataset/vgg_face_dataset/faces')\n",
    "MODELS = [\"VGG-Face\", \"Facenet\", \"OpenFace\", \"DeepFace\", \"DeepID\", \"ArcFace\", \"Dlib\"]"
   ]
  },
  {
   "source": [
    "## Verify 2 faces"
   ],
   "cell_type": "markdown",
   "metadata": {}
  },
  {
   "cell_type": "code",
   "execution_count": 58,
   "metadata": {},
   "outputs": [],
   "source": [
    "img1_path = os.path.join(ROOT_DATA_DIR, 'Abdullah_Gul', 'Abdullah_Gul_0001.jpg')\n",
    "img2_path = os.path.join(ROOT_DATA_DIR, 'Abdullah_Gul', 'Abdullah_Gul_0002.jpg')"
   ]
  },
  {
   "cell_type": "code",
   "execution_count": 59,
   "metadata": {},
   "outputs": [
    {
     "output_type": "execute_result",
     "data": {
      "text/plain": [
       "{'verified': True,\n",
       " 'distance': 0.20568309071283053,\n",
       " 'max_threshold_to_verify': 0.4,\n",
       " 'model': 'VGG-Face',\n",
       " 'similarity_metric': 'cosine'}"
      ]
     },
     "metadata": {},
     "execution_count": 59
    }
   ],
   "source": [
    "DeepFace.verify(img1_path=img1_path, img2_path=img2_path, enforce_detection=False)"
   ]
  },
  {
   "cell_type": "code",
   "execution_count": 60,
   "metadata": {},
   "outputs": [
    {
     "output_type": "display_data",
     "data": {
      "text/plain": "Canvas(toolbar=Toolbar(toolitems=[('Home', 'Reset original view', 'home', 'home'), ('Back', 'Back to previous …",
      "application/vnd.jupyter.widget-view+json": {
       "version_major": 2,
       "version_minor": 0,
       "model_id": "483639b040c141a988a307baf172fc4e"
      }
     },
     "metadata": {}
    },
    {
     "output_type": "execute_result",
     "data": {
      "text/plain": [
       "<matplotlib.image.AxesImage at 0x2208f2d00>"
      ]
     },
     "metadata": {},
     "execution_count": 60
    }
   ],
   "source": [
    "img1 = DeepFace.detectFace(img1_path, enforce_detection=False)\n",
    "plt.imshow(img1)"
   ]
  },
  {
   "source": [
    "## Build DB and Find face with 1 model (VGG-Face)"
   ],
   "cell_type": "markdown",
   "metadata": {}
  },
  {
   "cell_type": "code",
   "execution_count": 61,
   "metadata": {},
   "outputs": [],
   "source": [
    "# Build database and find\n",
    "def find_img(img_path):\n",
    "    result = DeepFace.find(img_path=img_path, db_path = ROOT_DATA_DIR, model_name = MODELS[0], enforce_detection=False)\n",
    "    return result"
   ]
  },
  {
   "cell_type": "code",
   "execution_count": 62,
   "metadata": {},
   "outputs": [
    {
     "output_type": "stream",
     "name": "stdout",
     "text": [
      "WARNING: Representations for images in  /Users/admin/Documents/tmp/python_play/face/dataset/vgg_face_dataset/faces  folder were previously stored in  representations_vgg_face.pkl . If you added new instances after this file creation, then please delete this file and call find function again. It will create it again.\n",
      "Analyzing:   0%|          | 0/1 [00:00<?, ?it/s]There are  3688  representations found in  representations_vgg_face.pkl\n",
      "Analyzing: 100%|██████████| 1/1 [00:02<00:00,  2.44s/it]find function lasts  2.9198200702667236  seconds\n",
      "\n"
     ]
    },
    {
     "output_type": "execute_result",
     "data": {
      "text/plain": [
       "['/Users/admin/Documents/tmp/python_play/face/dataset/vgg_face_dataset/faces/Abdullah_Gul/Abdullah_Gul_0001.jpg',\n",
       " '/Users/admin/Documents/tmp/python_play/face/dataset/vgg_face_dataset/faces/Abdullah_Gul/Abdullah_Gul_0012.jpg',\n",
       " '/Users/admin/Documents/tmp/python_play/face/dataset/vgg_face_dataset/faces/Abdullah_Gul/Abdullah_Gul_0007.jpg',\n",
       " '/Users/admin/Documents/tmp/python_play/face/dataset/vgg_face_dataset/faces/Abdullah_Gul/Abdullah_Gul_0013.jpg',\n",
       " '/Users/admin/Documents/tmp/python_play/face/dataset/vgg_face_dataset/faces/Abdullah_Gul/Abdullah_Gul_0015.jpg']"
      ]
     },
     "metadata": {},
     "execution_count": 62
    }
   ],
   "source": [
    "find_img(img1_path)['identity'].head(5).to_list()"
   ]
  },
  {
   "cell_type": "code",
   "execution_count": 63,
   "metadata": {},
   "outputs": [
    {
     "output_type": "stream",
     "name": "stdout",
     "text": [
      "WARNING: Representations for images in  /Users/admin/Documents/tmp/python_play/face/dataset/vgg_face_dataset/faces  folder were previously stored in  representations_vgg_face.pkl . If you added new instances after this file creation, then please delete this file and call find function again. It will create it again.\n",
      "Analyzing:   0%|          | 0/1 [00:00<?, ?it/s]There are  3688  representations found in  representations_vgg_face.pkl\n",
      "Analyzing: 100%|██████████| 1/1 [00:02<00:00,  2.37s/it]find function lasts  2.8336620330810547  seconds\n",
      "\n"
     ]
    },
    {
     "output_type": "execute_result",
     "data": {
      "text/plain": [
       "['/Users/admin/Documents/tmp/python_play/face/dataset/vgg_face_dataset/faces/Taha_Yassin_Ramadan/Taha_Yassin_Ramadan_0001.jpg',\n",
       " '/Users/admin/Documents/tmp/python_play/face/dataset/vgg_face_dataset/faces/Taha_Yassin_Ramadan/Taha_Yassin_Ramadan_0007.jpg',\n",
       " '/Users/admin/Documents/tmp/python_play/face/dataset/vgg_face_dataset/faces/Taha_Yassin_Ramadan/Taha_Yassin_Ramadan_0010.jpg',\n",
       " '/Users/admin/Documents/tmp/python_play/face/dataset/vgg_face_dataset/faces/Taha_Yassin_Ramadan/Taha_Yassin_Ramadan_0012.jpg',\n",
       " '/Users/admin/Documents/tmp/python_play/face/dataset/vgg_face_dataset/faces/Taha_Yassin_Ramadan/Taha_Yassin_Ramadan_0015.jpg']"
      ]
     },
     "metadata": {},
     "execution_count": 63
    }
   ],
   "source": [
    "find_img('/Users/admin/Documents/tmp/python_play/face/dataset/vgg_face_dataset/faces/Taha_Yassin_Ramadan/Taha_Yassin_Ramadan_0001.jpg')['identity'].head(5).to_list()"
   ]
  },
  {
   "cell_type": "code",
   "execution_count": 64,
   "metadata": {},
   "outputs": [
    {
     "output_type": "stream",
     "name": "stdout",
     "text": [
      "WARNING: Representations for images in  /Users/admin/Documents/tmp/python_play/face/dataset/vgg_face_dataset/faces  folder were previously stored in  representations_vgg_face.pkl . If you added new instances after this file creation, then please delete this file and call find function again. It will create it again.\n",
      "Analyzing:   0%|          | 0/1 [00:00<?, ?it/s]There are  3688  representations found in  representations_vgg_face.pkl\n",
      "Analyzing: 100%|██████████| 1/1 [00:02<00:00,  2.30s/it]find function lasts  2.7361128330230713  seconds\n",
      "\n"
     ]
    },
    {
     "output_type": "execute_result",
     "data": {
      "text/plain": [
       "['/Users/admin/Documents/tmp/python_play/face/dataset/vgg_face_dataset/faces/Richard_Gere/Richard_Gere_0009.jpg',\n",
       " '/Users/admin/Documents/tmp/python_play/face/dataset/vgg_face_dataset/faces/Richard_Gere/Richard_Gere_0008.jpg',\n",
       " '/Users/admin/Documents/tmp/python_play/face/dataset/vgg_face_dataset/faces/Richard_Gere/Richard_Gere_0002.jpg',\n",
       " '/Users/admin/Documents/tmp/python_play/face/dataset/vgg_face_dataset/faces/Richard_Gere/Richard_Gere_0010.jpg',\n",
       " '/Users/admin/Documents/tmp/python_play/face/dataset/vgg_face_dataset/faces/Richard_Gere/Richard_Gere_0004.jpg']"
      ]
     },
     "metadata": {},
     "execution_count": 64
    }
   ],
   "source": [
    "find_img('/Users/admin/Documents/tmp/python_play/face/dataset/vgg_face_dataset/faces/Richard_Gere/Richard_Gere_0009.jpg')['identity'].head(5).to_list()"
   ]
  },
  {
   "cell_type": "code",
   "execution_count": 65,
   "metadata": {},
   "outputs": [],
   "source": [
    "DB_FILE = 'dataset/vgg_face_dataset/faces/representations_vgg_face.pkl'\n",
    "f = open(DB_FILE, 'rb')\n",
    "db = pickle.load(f)"
   ]
  },
  {
   "cell_type": "code",
   "execution_count": 66,
   "metadata": {},
   "outputs": [],
   "source": [
    "db_frame = pd.DataFrame(db, columns = [\"identity\", \"%s_representation\" % (\"vgg_face\")])"
   ]
  },
  {
   "cell_type": "code",
   "execution_count": 67,
   "metadata": {},
   "outputs": [
    {
     "output_type": "execute_result",
     "data": {
      "text/plain": [
       "                                               identity  \\\n",
       "0     /Users/admin/Documents/tmp/python_play/face/da...   \n",
       "1     /Users/admin/Documents/tmp/python_play/face/da...   \n",
       "2     /Users/admin/Documents/tmp/python_play/face/da...   \n",
       "3     /Users/admin/Documents/tmp/python_play/face/da...   \n",
       "4     /Users/admin/Documents/tmp/python_play/face/da...   \n",
       "...                                                 ...   \n",
       "3683  /Users/admin/Documents/tmp/python_play/face/da...   \n",
       "3684  /Users/admin/Documents/tmp/python_play/face/da...   \n",
       "3685  /Users/admin/Documents/tmp/python_play/face/da...   \n",
       "3686  /Users/admin/Documents/tmp/python_play/face/da...   \n",
       "3687  /Users/admin/Documents/tmp/python_play/face/da...   \n",
       "\n",
       "                                vgg_face_representation  \n",
       "0     [0.004740223288536072, -0.0013511808356270194,...  \n",
       "1     [0.008823225274682045, 0.014276314526796341, -...  \n",
       "2     [0.020516492426395416, 0.009519693441689014, -...  \n",
       "3     [0.022623969241976738, 0.019174646586179733, -...  \n",
       "4     [0.011912306770682335, 0.009357951581478119, -...  \n",
       "...                                                 ...  \n",
       "3683  [0.008344047702848911, -0.0037891739048063755,...  \n",
       "3684  [0.009469110518693924, 0.01646186038851738, 0....  \n",
       "3685  [0.019530409947037697, 0.00659900764003396, 0....  \n",
       "3686  [0.013141295872628689, -0.005377068649977446, ...  \n",
       "3687  [0.019140541553497314, -0.0017987386090680957,...  \n",
       "\n",
       "[3688 rows x 2 columns]"
      ],
      "text/html": "<div>\n<style scoped>\n    .dataframe tbody tr th:only-of-type {\n        vertical-align: middle;\n    }\n\n    .dataframe tbody tr th {\n        vertical-align: top;\n    }\n\n    .dataframe thead th {\n        text-align: right;\n    }\n</style>\n<table border=\"1\" class=\"dataframe\">\n  <thead>\n    <tr style=\"text-align: right;\">\n      <th></th>\n      <th>identity</th>\n      <th>vgg_face_representation</th>\n    </tr>\n  </thead>\n  <tbody>\n    <tr>\n      <th>0</th>\n      <td>/Users/admin/Documents/tmp/python_play/face/da...</td>\n      <td>[0.004740223288536072, -0.0013511808356270194,...</td>\n    </tr>\n    <tr>\n      <th>1</th>\n      <td>/Users/admin/Documents/tmp/python_play/face/da...</td>\n      <td>[0.008823225274682045, 0.014276314526796341, -...</td>\n    </tr>\n    <tr>\n      <th>2</th>\n      <td>/Users/admin/Documents/tmp/python_play/face/da...</td>\n      <td>[0.020516492426395416, 0.009519693441689014, -...</td>\n    </tr>\n    <tr>\n      <th>3</th>\n      <td>/Users/admin/Documents/tmp/python_play/face/da...</td>\n      <td>[0.022623969241976738, 0.019174646586179733, -...</td>\n    </tr>\n    <tr>\n      <th>4</th>\n      <td>/Users/admin/Documents/tmp/python_play/face/da...</td>\n      <td>[0.011912306770682335, 0.009357951581478119, -...</td>\n    </tr>\n    <tr>\n      <th>...</th>\n      <td>...</td>\n      <td>...</td>\n    </tr>\n    <tr>\n      <th>3683</th>\n      <td>/Users/admin/Documents/tmp/python_play/face/da...</td>\n      <td>[0.008344047702848911, -0.0037891739048063755,...</td>\n    </tr>\n    <tr>\n      <th>3684</th>\n      <td>/Users/admin/Documents/tmp/python_play/face/da...</td>\n      <td>[0.009469110518693924, 0.01646186038851738, 0....</td>\n    </tr>\n    <tr>\n      <th>3685</th>\n      <td>/Users/admin/Documents/tmp/python_play/face/da...</td>\n      <td>[0.019530409947037697, 0.00659900764003396, 0....</td>\n    </tr>\n    <tr>\n      <th>3686</th>\n      <td>/Users/admin/Documents/tmp/python_play/face/da...</td>\n      <td>[0.013141295872628689, -0.005377068649977446, ...</td>\n    </tr>\n    <tr>\n      <th>3687</th>\n      <td>/Users/admin/Documents/tmp/python_play/face/da...</td>\n      <td>[0.019140541553497314, -0.0017987386090680957,...</td>\n    </tr>\n  </tbody>\n</table>\n<p>3688 rows × 2 columns</p>\n</div>"
     },
     "metadata": {},
     "execution_count": 67
    }
   ],
   "source": [
    "db_frame"
   ]
  },
  {
   "cell_type": "code",
   "execution_count": 68,
   "metadata": {},
   "outputs": [],
   "source": [
    "# ---------------------------"
   ]
  },
  {
   "source": [
    "## Ensemble (multiple model)"
   ],
   "cell_type": "markdown",
   "metadata": {}
  },
  {
   "cell_type": "code",
   "execution_count": 69,
   "metadata": {},
   "outputs": [],
   "source": [
    "# Ensemble\n",
    "def find_Ensemble_img(img_path):\n",
    "    result = DeepFace.find(img_path=img_path, db_path = ROOT_DATA_DIR, model_name = 'Ensemble', enforce_detection=False)\n",
    "    return result"
   ]
  },
  {
   "cell_type": "code",
   "execution_count": 70,
   "metadata": {},
   "outputs": [
    {
     "output_type": "stream",
     "name": "stderr",
     "text": [
      "Loading DeepFace: 100%|██████████| 4/4 [00:00<00:00, 826.95it/s]Ensemble learning enabled\n",
      "WARNING: Representations for images in  /Users/admin/Documents/tmp/python_play/face/dataset/vgg_face_dataset/faces  folder were previously stored in  representations_ensemble.pkl . If you added new instances after this file creation, then please delete this file and call find function again. It will create it again.\n",
      "\n",
      "Analyzing:   0%|          | 0/1 [00:00<?, ?it/s]There are  3688  representations found in  representations_ensemble.pkl\n",
      "Analyzing: 100%|██████████| 1/1 [00:15<00:00, 15.51s/it]\n",
      "find function lasts  17.526133060455322  seconds\n"
     ]
    }
   ],
   "source": [
    "res = find_Ensemble_img(img1_path)"
   ]
  },
  {
   "cell_type": "code",
   "execution_count": 71,
   "metadata": {},
   "outputs": [
    {
     "output_type": "execute_result",
     "data": {
      "text/plain": [
       "                                            identity  verified     score\n",
       "0  /Users/admin/Documents/tmp/python_play/face/da...      True  0.998182\n",
       "1  /Users/admin/Documents/tmp/python_play/face/da...      True  0.997617\n",
       "2  /Users/admin/Documents/tmp/python_play/face/da...      True  0.997133\n",
       "3  /Users/admin/Documents/tmp/python_play/face/da...      True  0.997030\n",
       "4  /Users/admin/Documents/tmp/python_play/face/da...      True  0.996993"
      ],
      "text/html": "<div>\n<style scoped>\n    .dataframe tbody tr th:only-of-type {\n        vertical-align: middle;\n    }\n\n    .dataframe tbody tr th {\n        vertical-align: top;\n    }\n\n    .dataframe thead th {\n        text-align: right;\n    }\n</style>\n<table border=\"1\" class=\"dataframe\">\n  <thead>\n    <tr style=\"text-align: right;\">\n      <th></th>\n      <th>identity</th>\n      <th>verified</th>\n      <th>score</th>\n    </tr>\n  </thead>\n  <tbody>\n    <tr>\n      <th>0</th>\n      <td>/Users/admin/Documents/tmp/python_play/face/da...</td>\n      <td>True</td>\n      <td>0.998182</td>\n    </tr>\n    <tr>\n      <th>1</th>\n      <td>/Users/admin/Documents/tmp/python_play/face/da...</td>\n      <td>True</td>\n      <td>0.997617</td>\n    </tr>\n    <tr>\n      <th>2</th>\n      <td>/Users/admin/Documents/tmp/python_play/face/da...</td>\n      <td>True</td>\n      <td>0.997133</td>\n    </tr>\n    <tr>\n      <th>3</th>\n      <td>/Users/admin/Documents/tmp/python_play/face/da...</td>\n      <td>True</td>\n      <td>0.997030</td>\n    </tr>\n    <tr>\n      <th>4</th>\n      <td>/Users/admin/Documents/tmp/python_play/face/da...</td>\n      <td>True</td>\n      <td>0.996993</td>\n    </tr>\n  </tbody>\n</table>\n</div>"
     },
     "metadata": {},
     "execution_count": 71
    }
   ],
   "source": [
    "res.head(5)"
   ]
  },
  {
   "cell_type": "code",
   "execution_count": 72,
   "metadata": {},
   "outputs": [],
   "source": [
    "def load_Ensemble_db(db_path):\n",
    "    f = open(db_path, 'rb')\n",
    "    db = pickle.load(f)\n",
    "    model_names = [\"VGG-Face\", \"Facenet\", \"OpenFace\", \"DeepFace\"]\n",
    "    metrics = [\"cosine\", \"euclidean\", \"euclidean_l2\"]\n",
    "    columns = ['identity']\n",
    "    [columns.append('%s_representation' % i) for i in model_names]\n",
    "    df = pd.DataFrame(db, columns = columns)\n",
    "    return df"
   ]
  },
  {
   "cell_type": "code",
   "execution_count": 73,
   "metadata": {},
   "outputs": [],
   "source": [
    "db = load_Ensemble_db('/Users/admin/Documents/tmp/python_play/face/dataset/vgg_face_dataset/faces/representations_ensemble.pkl')"
   ]
  },
  {
   "cell_type": "code",
   "execution_count": 74,
   "metadata": {},
   "outputs": [
    {
     "output_type": "execute_result",
     "data": {
      "text/plain": [
       "                                               identity  \\\n",
       "0     /Users/admin/Documents/tmp/python_play/face/da...   \n",
       "1     /Users/admin/Documents/tmp/python_play/face/da...   \n",
       "2     /Users/admin/Documents/tmp/python_play/face/da...   \n",
       "3     /Users/admin/Documents/tmp/python_play/face/da...   \n",
       "4     /Users/admin/Documents/tmp/python_play/face/da...   \n",
       "...                                                 ...   \n",
       "3683  /Users/admin/Documents/tmp/python_play/face/da...   \n",
       "3684  /Users/admin/Documents/tmp/python_play/face/da...   \n",
       "3685  /Users/admin/Documents/tmp/python_play/face/da...   \n",
       "3686  /Users/admin/Documents/tmp/python_play/face/da...   \n",
       "3687  /Users/admin/Documents/tmp/python_play/face/da...   \n",
       "\n",
       "                                VGG-Face_representation  \\\n",
       "0     [0.004740223288536072, -0.0013511808356270194,...   \n",
       "1     [0.008823225274682045, 0.014276314526796341, -...   \n",
       "2     [0.020516492426395416, 0.009519693441689014, -...   \n",
       "3     [0.022623969241976738, 0.019174646586179733, -...   \n",
       "4     [0.011912306770682335, 0.009357951581478119, -...   \n",
       "...                                                 ...   \n",
       "3683  [0.008344047702848911, -0.0037891739048063755,...   \n",
       "3684  [0.009469110518693924, 0.01646186038851738, 0....   \n",
       "3685  [0.019530409947037697, 0.00659900764003396, 0....   \n",
       "3686  [0.013141295872628689, -0.005377068649977446, ...   \n",
       "3687  [0.019140541553497314, -0.0017987386090680957,...   \n",
       "\n",
       "                                 Facenet_representation  \\\n",
       "0     [0.7250798940658569, 1.084446668624878, -0.116...   \n",
       "1     [-0.8137578964233398, 0.6834025382995605, 0.63...   \n",
       "2     [1.5883285999298096, 2.526050329208374, -1.013...   \n",
       "3     [-0.452881783246994, 1.232438087463379, -0.068...   \n",
       "4     [-0.5669993162155151, 2.130279779434204, -0.18...   \n",
       "...                                                 ...   \n",
       "3683  [0.87335205078125, 0.6089174747467041, 0.67954...   \n",
       "3684  [0.41437432169914246, 0.331260621547699, 0.074...   \n",
       "3685  [0.8519799709320068, -0.6105197668075562, 0.33...   \n",
       "3686  [1.1727863550186157, 0.07351745665073395, -0.1...   \n",
       "3687  [1.268378734588623, -0.3658170700073242, -0.04...   \n",
       "\n",
       "                                OpenFace_representation  \\\n",
       "0     [0.03616740182042122, -0.11801913380622864, 0....   \n",
       "1     [0.11470276117324829, -0.14653193950653076, 0....   \n",
       "2     [0.03891799598932266, -0.06711485236883163, -0...   \n",
       "3     [0.11516433209180832, -0.060278184711933136, -...   \n",
       "4     [0.06373895704746246, -0.05842230096459389, 0....   \n",
       "...                                                 ...   \n",
       "3683  [-0.025880616158246994, -0.04576340317726135, ...   \n",
       "3684  [0.02452048473060131, 0.02822156250476837, -0....   \n",
       "3685  [0.030617201700806618, 0.06832963228225708, -0...   \n",
       "3686  [0.05730421096086502, 0.0039909109473228455, -...   \n",
       "3687  [0.007623196579515934, -0.04217599704861641, -...   \n",
       "\n",
       "                                DeepFace_representation  \n",
       "0     [0.0, 0.0, 0.0, 0.3374479413032532, 2.53953027...  \n",
       "1     [0.0, 0.0, 0.0, 1.0103286504745483, 5.41690826...  \n",
       "2     [0.0, 0.0, 0.0, 0.2389901876449585, 1.51561474...  \n",
       "3     [0.0, 0.0, 0.0, 0.35286810994148254, 3.4454002...  \n",
       "4     [0.0, 0.0, 0.0, 0.02194952964782715, 2.1955332...  \n",
       "...                                                 ...  \n",
       "3683  [0.0, 0.0, 0.0, 0.9159409999847412, 1.99984645...  \n",
       "3684  [0.0, 0.0, 0.0, 0.2525647282600403, 3.51312494...  \n",
       "3685  [0.0, 0.0, 0.0, 1.7667226791381836, 0.99880909...  \n",
       "3686  [0.0, 0.0, 0.0, 0.2047833800315857, 2.16055798...  \n",
       "3687  [0.0, 0.0, 0.7624638080596924, 0.0, 0.70422047...  \n",
       "\n",
       "[3688 rows x 5 columns]"
      ],
      "text/html": "<div>\n<style scoped>\n    .dataframe tbody tr th:only-of-type {\n        vertical-align: middle;\n    }\n\n    .dataframe tbody tr th {\n        vertical-align: top;\n    }\n\n    .dataframe thead th {\n        text-align: right;\n    }\n</style>\n<table border=\"1\" class=\"dataframe\">\n  <thead>\n    <tr style=\"text-align: right;\">\n      <th></th>\n      <th>identity</th>\n      <th>VGG-Face_representation</th>\n      <th>Facenet_representation</th>\n      <th>OpenFace_representation</th>\n      <th>DeepFace_representation</th>\n    </tr>\n  </thead>\n  <tbody>\n    <tr>\n      <th>0</th>\n      <td>/Users/admin/Documents/tmp/python_play/face/da...</td>\n      <td>[0.004740223288536072, -0.0013511808356270194,...</td>\n      <td>[0.7250798940658569, 1.084446668624878, -0.116...</td>\n      <td>[0.03616740182042122, -0.11801913380622864, 0....</td>\n      <td>[0.0, 0.0, 0.0, 0.3374479413032532, 2.53953027...</td>\n    </tr>\n    <tr>\n      <th>1</th>\n      <td>/Users/admin/Documents/tmp/python_play/face/da...</td>\n      <td>[0.008823225274682045, 0.014276314526796341, -...</td>\n      <td>[-0.8137578964233398, 0.6834025382995605, 0.63...</td>\n      <td>[0.11470276117324829, -0.14653193950653076, 0....</td>\n      <td>[0.0, 0.0, 0.0, 1.0103286504745483, 5.41690826...</td>\n    </tr>\n    <tr>\n      <th>2</th>\n      <td>/Users/admin/Documents/tmp/python_play/face/da...</td>\n      <td>[0.020516492426395416, 0.009519693441689014, -...</td>\n      <td>[1.5883285999298096, 2.526050329208374, -1.013...</td>\n      <td>[0.03891799598932266, -0.06711485236883163, -0...</td>\n      <td>[0.0, 0.0, 0.0, 0.2389901876449585, 1.51561474...</td>\n    </tr>\n    <tr>\n      <th>3</th>\n      <td>/Users/admin/Documents/tmp/python_play/face/da...</td>\n      <td>[0.022623969241976738, 0.019174646586179733, -...</td>\n      <td>[-0.452881783246994, 1.232438087463379, -0.068...</td>\n      <td>[0.11516433209180832, -0.060278184711933136, -...</td>\n      <td>[0.0, 0.0, 0.0, 0.35286810994148254, 3.4454002...</td>\n    </tr>\n    <tr>\n      <th>4</th>\n      <td>/Users/admin/Documents/tmp/python_play/face/da...</td>\n      <td>[0.011912306770682335, 0.009357951581478119, -...</td>\n      <td>[-0.5669993162155151, 2.130279779434204, -0.18...</td>\n      <td>[0.06373895704746246, -0.05842230096459389, 0....</td>\n      <td>[0.0, 0.0, 0.0, 0.02194952964782715, 2.1955332...</td>\n    </tr>\n    <tr>\n      <th>...</th>\n      <td>...</td>\n      <td>...</td>\n      <td>...</td>\n      <td>...</td>\n      <td>...</td>\n    </tr>\n    <tr>\n      <th>3683</th>\n      <td>/Users/admin/Documents/tmp/python_play/face/da...</td>\n      <td>[0.008344047702848911, -0.0037891739048063755,...</td>\n      <td>[0.87335205078125, 0.6089174747467041, 0.67954...</td>\n      <td>[-0.025880616158246994, -0.04576340317726135, ...</td>\n      <td>[0.0, 0.0, 0.0, 0.9159409999847412, 1.99984645...</td>\n    </tr>\n    <tr>\n      <th>3684</th>\n      <td>/Users/admin/Documents/tmp/python_play/face/da...</td>\n      <td>[0.009469110518693924, 0.01646186038851738, 0....</td>\n      <td>[0.41437432169914246, 0.331260621547699, 0.074...</td>\n      <td>[0.02452048473060131, 0.02822156250476837, -0....</td>\n      <td>[0.0, 0.0, 0.0, 0.2525647282600403, 3.51312494...</td>\n    </tr>\n    <tr>\n      <th>3685</th>\n      <td>/Users/admin/Documents/tmp/python_play/face/da...</td>\n      <td>[0.019530409947037697, 0.00659900764003396, 0....</td>\n      <td>[0.8519799709320068, -0.6105197668075562, 0.33...</td>\n      <td>[0.030617201700806618, 0.06832963228225708, -0...</td>\n      <td>[0.0, 0.0, 0.0, 1.7667226791381836, 0.99880909...</td>\n    </tr>\n    <tr>\n      <th>3686</th>\n      <td>/Users/admin/Documents/tmp/python_play/face/da...</td>\n      <td>[0.013141295872628689, -0.005377068649977446, ...</td>\n      <td>[1.1727863550186157, 0.07351745665073395, -0.1...</td>\n      <td>[0.05730421096086502, 0.0039909109473228455, -...</td>\n      <td>[0.0, 0.0, 0.0, 0.2047833800315857, 2.16055798...</td>\n    </tr>\n    <tr>\n      <th>3687</th>\n      <td>/Users/admin/Documents/tmp/python_play/face/da...</td>\n      <td>[0.019140541553497314, -0.0017987386090680957,...</td>\n      <td>[1.268378734588623, -0.3658170700073242, -0.04...</td>\n      <td>[0.007623196579515934, -0.04217599704861641, -...</td>\n      <td>[0.0, 0.0, 0.7624638080596924, 0.0, 0.70422047...</td>\n    </tr>\n  </tbody>\n</table>\n<p>3688 rows × 5 columns</p>\n</div>"
     },
     "metadata": {},
     "execution_count": 74
    }
   ],
   "source": [
    "db"
   ]
  },
  {
   "cell_type": "code",
   "execution_count": 75,
   "metadata": {},
   "outputs": [
    {
     "output_type": "stream",
     "name": "stderr",
     "text": [
      "Loading DeepFace: 100%|██████████| 4/4 [00:00<00:00, 692.87it/s]Ensemble learning enabled\n",
      "WARNING: Representations for images in  /Users/admin/Documents/tmp/python_play/face/dataset/vgg_face_dataset/faces  folder were previously stored in  representations_ensemble.pkl . If you added new instances after this file creation, then please delete this file and call find function again. It will create it again.\n",
      "\n",
      "Analyzing:   0%|          | 0/1 [00:00<?, ?it/s]There are  3688  representations found in  representations_ensemble.pkl\n",
      "Analyzing: 100%|██████████| 1/1 [00:23<00:00, 23.46s/it]find function lasts  25.345442056655884  seconds\n",
      "\n"
     ]
    },
    {
     "output_type": "execute_result",
     "data": {
      "text/plain": [
       "{'identity': {0: '/Users/admin/Documents/tmp/python_play/face/dataset/vgg_face_dataset/faces/Tommy_Franks/Tommy_Franks_0001.jpg',\n",
       "  1: '/Users/admin/Documents/tmp/python_play/face/dataset/vgg_face_dataset/faces/Tommy_Franks/Tommy_Franks_0008.jpg',\n",
       "  2: '/Users/admin/Documents/tmp/python_play/face/dataset/vgg_face_dataset/faces/Tommy_Franks/Tommy_Franks_0015.jpg',\n",
       "  3: '/Users/admin/Documents/tmp/python_play/face/dataset/vgg_face_dataset/faces/Tommy_Franks/Tommy_Franks_0010.jpg',\n",
       "  4: '/Users/admin/Documents/tmp/python_play/face/dataset/vgg_face_dataset/faces/Tommy_Franks/Tommy_Franks_0002.jpg'},\n",
       " 'verified': {0: True, 1: True, 2: True, 3: True, 4: True},\n",
       " 'score': {0: 0.9969725576919597,\n",
       "  1: 0.9951737103065507,\n",
       "  2: 0.9924589506638463,\n",
       "  3: 0.9924589506638463,\n",
       "  4: 0.9924589506638463}}"
      ]
     },
     "metadata": {},
     "execution_count": 75
    }
   ],
   "source": [
    "find_Ensemble_img('dataset/vgg_face_dataset/faces/Tommy_Franks/Tommy_Franks_0001.jpg').head(5).to_dict()"
   ]
  },
  {
   "cell_type": "code",
   "execution_count": 76,
   "metadata": {},
   "outputs": [
    {
     "output_type": "stream",
     "name": "stderr",
     "text": [
      "Loading DeepFace: 100%|██████████| 4/4 [00:00<00:00, 679.24it/s]\n",
      "Ensemble learning enabled\n",
      "WARNING: Representations for images in  /Users/admin/Documents/tmp/python_play/face/dataset/vgg_face_dataset/faces  folder were previously stored in  representations_ensemble.pkl . If you added new instances after this file creation, then please delete this file and call find function again. It will create it again.\n",
      "Analyzing:   0%|          | 0/1 [00:00<?, ?it/s]There are  3688  representations found in  representations_ensemble.pkl\n",
      "Analyzing: 100%|██████████| 1/1 [00:14<00:00, 14.80s/it]find function lasts  16.097138166427612  seconds\n",
      "\n"
     ]
    },
    {
     "output_type": "execute_result",
     "data": {
      "text/plain": [
       "                                             identity  verified     score\n",
       "0   /Users/admin/Documents/tmp/python_play/face/da...      True  0.998236\n",
       "1   /Users/admin/Documents/tmp/python_play/face/da...      True  0.997013\n",
       "2   /Users/admin/Documents/tmp/python_play/face/da...      True  0.996996\n",
       "3   /Users/admin/Documents/tmp/python_play/face/da...      True  0.996973\n",
       "4   /Users/admin/Documents/tmp/python_play/face/da...      True  0.996483\n",
       "5   /Users/admin/Documents/tmp/python_play/face/da...      True  0.996409\n",
       "6   /Users/admin/Documents/tmp/python_play/face/da...      True  0.995527\n",
       "7   /Users/admin/Documents/tmp/python_play/face/da...      True  0.995518\n",
       "8   /Users/admin/Documents/tmp/python_play/face/da...      True  0.995354\n",
       "9   /Users/admin/Documents/tmp/python_play/face/da...      True  0.995317\n",
       "10  /Users/admin/Documents/tmp/python_play/face/da...      True  0.995266\n",
       "11  /Users/admin/Documents/tmp/python_play/face/da...      True  0.995237\n",
       "12  /Users/admin/Documents/tmp/python_play/face/da...      True  0.995237\n",
       "13  /Users/admin/Documents/tmp/python_play/face/da...      True  0.995183\n",
       "14  /Users/admin/Documents/tmp/python_play/face/da...      True  0.995183\n",
       "15  /Users/admin/Documents/tmp/python_play/face/da...      True  0.995183\n",
       "16  /Users/admin/Documents/tmp/python_play/face/da...      True  0.995174\n",
       "17  /Users/admin/Documents/tmp/python_play/face/da...      True  0.995168\n",
       "18  /Users/admin/Documents/tmp/python_play/face/da...      True  0.994512\n",
       "19  /Users/admin/Documents/tmp/python_play/face/da...      True  0.992459\n",
       "20  /Users/admin/Documents/tmp/python_play/face/da...      True  0.992459\n",
       "21  /Users/admin/Documents/tmp/python_play/face/da...      True  0.992459\n",
       "22  /Users/admin/Documents/tmp/python_play/face/da...      True  0.992459\n",
       "23  /Users/admin/Documents/tmp/python_play/face/da...      True  0.992459\n",
       "24  /Users/admin/Documents/tmp/python_play/face/da...      True  0.992459\n",
       "25  /Users/admin/Documents/tmp/python_play/face/da...      True  0.992459\n",
       "26  /Users/admin/Documents/tmp/python_play/face/da...      True  0.992459\n",
       "27  /Users/admin/Documents/tmp/python_play/face/da...      True  0.957422\n",
       "28  /Users/admin/Documents/tmp/python_play/face/da...      True  0.950053\n",
       "29  /Users/admin/Documents/tmp/python_play/face/da...      True  0.950053\n",
       "30  /Users/admin/Documents/tmp/python_play/face/da...      True  0.946202\n",
       "31  /Users/admin/Documents/tmp/python_play/face/da...      True  0.924466\n",
       "32  /Users/admin/Documents/tmp/python_play/face/da...      True  0.924466\n",
       "33  /Users/admin/Documents/tmp/python_play/face/da...      True  0.923771\n",
       "34  /Users/admin/Documents/tmp/python_play/face/da...      True  0.911784\n",
       "35  /Users/admin/Documents/tmp/python_play/face/da...      True  0.911784\n",
       "36  /Users/admin/Documents/tmp/python_play/face/da...      True  0.882487\n",
       "37  /Users/admin/Documents/tmp/python_play/face/da...      True  0.876958\n",
       "38  /Users/admin/Documents/tmp/python_play/face/da...      True  0.859627\n",
       "39  /Users/admin/Documents/tmp/python_play/face/da...      True  0.808138\n",
       "40  /Users/admin/Documents/tmp/python_play/face/da...      True  0.805750\n",
       "41  /Users/admin/Documents/tmp/python_play/face/da...      True  0.805750\n",
       "42  /Users/admin/Documents/tmp/python_play/face/da...      True  0.765906\n",
       "43  /Users/admin/Documents/tmp/python_play/face/da...      True  0.710386\n",
       "44  /Users/admin/Documents/tmp/python_play/face/da...      True  0.710386\n",
       "45  /Users/admin/Documents/tmp/python_play/face/da...      True  0.710386\n",
       "46  /Users/admin/Documents/tmp/python_play/face/da...      True  0.710386"
      ],
      "text/html": "<div>\n<style scoped>\n    .dataframe tbody tr th:only-of-type {\n        vertical-align: middle;\n    }\n\n    .dataframe tbody tr th {\n        vertical-align: top;\n    }\n\n    .dataframe thead th {\n        text-align: right;\n    }\n</style>\n<table border=\"1\" class=\"dataframe\">\n  <thead>\n    <tr style=\"text-align: right;\">\n      <th></th>\n      <th>identity</th>\n      <th>verified</th>\n      <th>score</th>\n    </tr>\n  </thead>\n  <tbody>\n    <tr>\n      <th>0</th>\n      <td>/Users/admin/Documents/tmp/python_play/face/da...</td>\n      <td>True</td>\n      <td>0.998236</td>\n    </tr>\n    <tr>\n      <th>1</th>\n      <td>/Users/admin/Documents/tmp/python_play/face/da...</td>\n      <td>True</td>\n      <td>0.997013</td>\n    </tr>\n    <tr>\n      <th>2</th>\n      <td>/Users/admin/Documents/tmp/python_play/face/da...</td>\n      <td>True</td>\n      <td>0.996996</td>\n    </tr>\n    <tr>\n      <th>3</th>\n      <td>/Users/admin/Documents/tmp/python_play/face/da...</td>\n      <td>True</td>\n      <td>0.996973</td>\n    </tr>\n    <tr>\n      <th>4</th>\n      <td>/Users/admin/Documents/tmp/python_play/face/da...</td>\n      <td>True</td>\n      <td>0.996483</td>\n    </tr>\n    <tr>\n      <th>5</th>\n      <td>/Users/admin/Documents/tmp/python_play/face/da...</td>\n      <td>True</td>\n      <td>0.996409</td>\n    </tr>\n    <tr>\n      <th>6</th>\n      <td>/Users/admin/Documents/tmp/python_play/face/da...</td>\n      <td>True</td>\n      <td>0.995527</td>\n    </tr>\n    <tr>\n      <th>7</th>\n      <td>/Users/admin/Documents/tmp/python_play/face/da...</td>\n      <td>True</td>\n      <td>0.995518</td>\n    </tr>\n    <tr>\n      <th>8</th>\n      <td>/Users/admin/Documents/tmp/python_play/face/da...</td>\n      <td>True</td>\n      <td>0.995354</td>\n    </tr>\n    <tr>\n      <th>9</th>\n      <td>/Users/admin/Documents/tmp/python_play/face/da...</td>\n      <td>True</td>\n      <td>0.995317</td>\n    </tr>\n    <tr>\n      <th>10</th>\n      <td>/Users/admin/Documents/tmp/python_play/face/da...</td>\n      <td>True</td>\n      <td>0.995266</td>\n    </tr>\n    <tr>\n      <th>11</th>\n      <td>/Users/admin/Documents/tmp/python_play/face/da...</td>\n      <td>True</td>\n      <td>0.995237</td>\n    </tr>\n    <tr>\n      <th>12</th>\n      <td>/Users/admin/Documents/tmp/python_play/face/da...</td>\n      <td>True</td>\n      <td>0.995237</td>\n    </tr>\n    <tr>\n      <th>13</th>\n      <td>/Users/admin/Documents/tmp/python_play/face/da...</td>\n      <td>True</td>\n      <td>0.995183</td>\n    </tr>\n    <tr>\n      <th>14</th>\n      <td>/Users/admin/Documents/tmp/python_play/face/da...</td>\n      <td>True</td>\n      <td>0.995183</td>\n    </tr>\n    <tr>\n      <th>15</th>\n      <td>/Users/admin/Documents/tmp/python_play/face/da...</td>\n      <td>True</td>\n      <td>0.995183</td>\n    </tr>\n    <tr>\n      <th>16</th>\n      <td>/Users/admin/Documents/tmp/python_play/face/da...</td>\n      <td>True</td>\n      <td>0.995174</td>\n    </tr>\n    <tr>\n      <th>17</th>\n      <td>/Users/admin/Documents/tmp/python_play/face/da...</td>\n      <td>True</td>\n      <td>0.995168</td>\n    </tr>\n    <tr>\n      <th>18</th>\n      <td>/Users/admin/Documents/tmp/python_play/face/da...</td>\n      <td>True</td>\n      <td>0.994512</td>\n    </tr>\n    <tr>\n      <th>19</th>\n      <td>/Users/admin/Documents/tmp/python_play/face/da...</td>\n      <td>True</td>\n      <td>0.992459</td>\n    </tr>\n    <tr>\n      <th>20</th>\n      <td>/Users/admin/Documents/tmp/python_play/face/da...</td>\n      <td>True</td>\n      <td>0.992459</td>\n    </tr>\n    <tr>\n      <th>21</th>\n      <td>/Users/admin/Documents/tmp/python_play/face/da...</td>\n      <td>True</td>\n      <td>0.992459</td>\n    </tr>\n    <tr>\n      <th>22</th>\n      <td>/Users/admin/Documents/tmp/python_play/face/da...</td>\n      <td>True</td>\n      <td>0.992459</td>\n    </tr>\n    <tr>\n      <th>23</th>\n      <td>/Users/admin/Documents/tmp/python_play/face/da...</td>\n      <td>True</td>\n      <td>0.992459</td>\n    </tr>\n    <tr>\n      <th>24</th>\n      <td>/Users/admin/Documents/tmp/python_play/face/da...</td>\n      <td>True</td>\n      <td>0.992459</td>\n    </tr>\n    <tr>\n      <th>25</th>\n      <td>/Users/admin/Documents/tmp/python_play/face/da...</td>\n      <td>True</td>\n      <td>0.992459</td>\n    </tr>\n    <tr>\n      <th>26</th>\n      <td>/Users/admin/Documents/tmp/python_play/face/da...</td>\n      <td>True</td>\n      <td>0.992459</td>\n    </tr>\n    <tr>\n      <th>27</th>\n      <td>/Users/admin/Documents/tmp/python_play/face/da...</td>\n      <td>True</td>\n      <td>0.957422</td>\n    </tr>\n    <tr>\n      <th>28</th>\n      <td>/Users/admin/Documents/tmp/python_play/face/da...</td>\n      <td>True</td>\n      <td>0.950053</td>\n    </tr>\n    <tr>\n      <th>29</th>\n      <td>/Users/admin/Documents/tmp/python_play/face/da...</td>\n      <td>True</td>\n      <td>0.950053</td>\n    </tr>\n    <tr>\n      <th>30</th>\n      <td>/Users/admin/Documents/tmp/python_play/face/da...</td>\n      <td>True</td>\n      <td>0.946202</td>\n    </tr>\n    <tr>\n      <th>31</th>\n      <td>/Users/admin/Documents/tmp/python_play/face/da...</td>\n      <td>True</td>\n      <td>0.924466</td>\n    </tr>\n    <tr>\n      <th>32</th>\n      <td>/Users/admin/Documents/tmp/python_play/face/da...</td>\n      <td>True</td>\n      <td>0.924466</td>\n    </tr>\n    <tr>\n      <th>33</th>\n      <td>/Users/admin/Documents/tmp/python_play/face/da...</td>\n      <td>True</td>\n      <td>0.923771</td>\n    </tr>\n    <tr>\n      <th>34</th>\n      <td>/Users/admin/Documents/tmp/python_play/face/da...</td>\n      <td>True</td>\n      <td>0.911784</td>\n    </tr>\n    <tr>\n      <th>35</th>\n      <td>/Users/admin/Documents/tmp/python_play/face/da...</td>\n      <td>True</td>\n      <td>0.911784</td>\n    </tr>\n    <tr>\n      <th>36</th>\n      <td>/Users/admin/Documents/tmp/python_play/face/da...</td>\n      <td>True</td>\n      <td>0.882487</td>\n    </tr>\n    <tr>\n      <th>37</th>\n      <td>/Users/admin/Documents/tmp/python_play/face/da...</td>\n      <td>True</td>\n      <td>0.876958</td>\n    </tr>\n    <tr>\n      <th>38</th>\n      <td>/Users/admin/Documents/tmp/python_play/face/da...</td>\n      <td>True</td>\n      <td>0.859627</td>\n    </tr>\n    <tr>\n      <th>39</th>\n      <td>/Users/admin/Documents/tmp/python_play/face/da...</td>\n      <td>True</td>\n      <td>0.808138</td>\n    </tr>\n    <tr>\n      <th>40</th>\n      <td>/Users/admin/Documents/tmp/python_play/face/da...</td>\n      <td>True</td>\n      <td>0.805750</td>\n    </tr>\n    <tr>\n      <th>41</th>\n      <td>/Users/admin/Documents/tmp/python_play/face/da...</td>\n      <td>True</td>\n      <td>0.805750</td>\n    </tr>\n    <tr>\n      <th>42</th>\n      <td>/Users/admin/Documents/tmp/python_play/face/da...</td>\n      <td>True</td>\n      <td>0.765906</td>\n    </tr>\n    <tr>\n      <th>43</th>\n      <td>/Users/admin/Documents/tmp/python_play/face/da...</td>\n      <td>True</td>\n      <td>0.710386</td>\n    </tr>\n    <tr>\n      <th>44</th>\n      <td>/Users/admin/Documents/tmp/python_play/face/da...</td>\n      <td>True</td>\n      <td>0.710386</td>\n    </tr>\n    <tr>\n      <th>45</th>\n      <td>/Users/admin/Documents/tmp/python_play/face/da...</td>\n      <td>True</td>\n      <td>0.710386</td>\n    </tr>\n    <tr>\n      <th>46</th>\n      <td>/Users/admin/Documents/tmp/python_play/face/da...</td>\n      <td>True</td>\n      <td>0.710386</td>\n    </tr>\n  </tbody>\n</table>\n</div>"
     },
     "metadata": {},
     "execution_count": 76
    }
   ],
   "source": [
    "find_Ensemble_img('dataset/vgg_face_dataset/faces/Vicente_Fox/Vicente_Fox_0001.jpg')"
   ]
  },
  {
   "cell_type": "code",
   "execution_count": null,
   "metadata": {},
   "outputs": [],
   "source": []
  }
 ]
}