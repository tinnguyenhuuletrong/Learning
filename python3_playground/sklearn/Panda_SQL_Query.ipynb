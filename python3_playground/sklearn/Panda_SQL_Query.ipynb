{
  "nbformat": 4,
  "nbformat_minor": 0,
  "metadata": {
    "colab": {
      "name": "Panda-SQL Query",
      "provenance": [],
      "collapsed_sections": []
    },
    "kernelspec": {
      "name": "python3",
      "display_name": "Python 3"
    }
  },
  "cells": [
    {
      "cell_type": "code",
      "metadata": {
        "id": "8hJ7-j_-a9nT",
        "colab_type": "code",
        "colab": {}
      },
      "source": [
        "import sqlite3 as sql\n",
        "import pandas as pd\n",
        "import matplotlib.pyplot as plt"
      ],
      "execution_count": 1,
      "outputs": []
    },
    {
      "cell_type": "code",
      "metadata": {
        "id": "gA64_cREcmRB",
        "colab_type": "code",
        "colab": {
          "base_uri": "https://localhost:8080/",
          "height": 224
        },
        "outputId": "cb415ddd-c1c4-4f9c-b9ab-fd0f62903f08"
      },
      "source": [
        "!wget https://raw.githubusercontent.com/jupyter/docker-demo-images/master/datasets/car/Robey.csv"
      ],
      "execution_count": 3,
      "outputs": [
        {
          "output_type": "stream",
          "text": [
            "--2020-09-19 08:20:07--  https://raw.githubusercontent.com/jupyter/docker-demo-images/master/datasets/car/Robey.csv\n",
            "Resolving raw.githubusercontent.com (raw.githubusercontent.com)... 151.101.0.133, 151.101.64.133, 151.101.128.133, ...\n",
            "Connecting to raw.githubusercontent.com (raw.githubusercontent.com)|151.101.0.133|:443... connected.\n",
            "HTTP request sent, awaiting response... 200 OK\n",
            "Length: 1388 (1.4K) [text/plain]\n",
            "Saving to: ‘Robey.csv’\n",
            "\n",
            "Robey.csv           100%[===================>]   1.36K  --.-KB/s    in 0s      \n",
            "\n",
            "2020-09-19 08:20:07 (28.4 MB/s) - ‘Robey.csv’ saved [1388/1388]\n",
            "\n"
          ],
          "name": "stdout"
        }
      ]
    },
    {
      "cell_type": "code",
      "metadata": {
        "id": "FrWWoQvmbTGC",
        "colab_type": "code",
        "colab": {}
      },
      "source": [
        "df = pd.read_csv('./Robey.csv')"
      ],
      "execution_count": 19,
      "outputs": []
    },
    {
      "cell_type": "code",
      "metadata": {
        "id": "ArhGGy99ev5s",
        "colab_type": "code",
        "colab": {
          "base_uri": "https://localhost:8080/",
          "height": 297
        },
        "outputId": "2fe62b9d-d5da-48ef-cb43-23cbc3fcaa7e"
      },
      "source": [
        "df.describe()"
      ],
      "execution_count": 20,
      "outputs": [
        {
          "output_type": "execute_result",
          "data": {
            "text/html": [
              "<div>\n",
              "<style scoped>\n",
              "    .dataframe tbody tr th:only-of-type {\n",
              "        vertical-align: middle;\n",
              "    }\n",
              "\n",
              "    .dataframe tbody tr th {\n",
              "        vertical-align: top;\n",
              "    }\n",
              "\n",
              "    .dataframe thead th {\n",
              "        text-align: right;\n",
              "    }\n",
              "</style>\n",
              "<table border=\"1\" class=\"dataframe\">\n",
              "  <thead>\n",
              "    <tr style=\"text-align: right;\">\n",
              "      <th></th>\n",
              "      <th>tfr</th>\n",
              "      <th>contraceptors</th>\n",
              "    </tr>\n",
              "  </thead>\n",
              "  <tbody>\n",
              "    <tr>\n",
              "      <th>count</th>\n",
              "      <td>50.000000</td>\n",
              "      <td>50.00000</td>\n",
              "    </tr>\n",
              "    <tr>\n",
              "      <th>mean</th>\n",
              "      <td>4.688000</td>\n",
              "      <td>37.44000</td>\n",
              "    </tr>\n",
              "    <tr>\n",
              "      <th>std</th>\n",
              "      <td>1.453446</td>\n",
              "      <td>22.89832</td>\n",
              "    </tr>\n",
              "    <tr>\n",
              "      <th>min</th>\n",
              "      <td>1.700000</td>\n",
              "      <td>4.00000</td>\n",
              "    </tr>\n",
              "    <tr>\n",
              "      <th>25%</th>\n",
              "      <td>3.600000</td>\n",
              "      <td>12.25000</td>\n",
              "    </tr>\n",
              "    <tr>\n",
              "      <th>50%</th>\n",
              "      <td>4.600000</td>\n",
              "      <td>41.00000</td>\n",
              "    </tr>\n",
              "    <tr>\n",
              "      <th>75%</th>\n",
              "      <td>5.975000</td>\n",
              "      <td>55.00000</td>\n",
              "    </tr>\n",
              "    <tr>\n",
              "      <th>max</th>\n",
              "      <td>7.300000</td>\n",
              "      <td>77.00000</td>\n",
              "    </tr>\n",
              "  </tbody>\n",
              "</table>\n",
              "</div>"
            ],
            "text/plain": [
              "             tfr  contraceptors\n",
              "count  50.000000       50.00000\n",
              "mean    4.688000       37.44000\n",
              "std     1.453446       22.89832\n",
              "min     1.700000        4.00000\n",
              "25%     3.600000       12.25000\n",
              "50%     4.600000       41.00000\n",
              "75%     5.975000       55.00000\n",
              "max     7.300000       77.00000"
            ]
          },
          "metadata": {
            "tags": []
          },
          "execution_count": 20
        }
      ]
    },
    {
      "cell_type": "code",
      "metadata": {
        "id": "J8afXVPgbbEA",
        "colab_type": "code",
        "colab": {
          "base_uri": "https://localhost:8080/",
          "height": 1000
        },
        "outputId": "271a0c91-a5da-4a33-ad17-44dcfd4d1a60"
      },
      "source": [
        "df.rename(columns={'Unnamed: 0': 'country'}, inplace=True)\n",
        "df.head(50)"
      ],
      "execution_count": 22,
      "outputs": [
        {
          "output_type": "execute_result",
          "data": {
            "text/html": [
              "<div>\n",
              "<style scoped>\n",
              "    .dataframe tbody tr th:only-of-type {\n",
              "        vertical-align: middle;\n",
              "    }\n",
              "\n",
              "    .dataframe tbody tr th {\n",
              "        vertical-align: top;\n",
              "    }\n",
              "\n",
              "    .dataframe thead th {\n",
              "        text-align: right;\n",
              "    }\n",
              "</style>\n",
              "<table border=\"1\" class=\"dataframe\">\n",
              "  <thead>\n",
              "    <tr style=\"text-align: right;\">\n",
              "      <th></th>\n",
              "      <th>country</th>\n",
              "      <th>region</th>\n",
              "      <th>tfr</th>\n",
              "      <th>contraceptors</th>\n",
              "    </tr>\n",
              "  </thead>\n",
              "  <tbody>\n",
              "    <tr>\n",
              "      <th>0</th>\n",
              "      <td>Botswana</td>\n",
              "      <td>Africa</td>\n",
              "      <td>4.8</td>\n",
              "      <td>35</td>\n",
              "    </tr>\n",
              "    <tr>\n",
              "      <th>1</th>\n",
              "      <td>Burundi</td>\n",
              "      <td>Africa</td>\n",
              "      <td>6.5</td>\n",
              "      <td>9</td>\n",
              "    </tr>\n",
              "    <tr>\n",
              "      <th>2</th>\n",
              "      <td>Cameroon</td>\n",
              "      <td>Africa</td>\n",
              "      <td>5.9</td>\n",
              "      <td>16</td>\n",
              "    </tr>\n",
              "    <tr>\n",
              "      <th>3</th>\n",
              "      <td>Ghana</td>\n",
              "      <td>Africa</td>\n",
              "      <td>6.1</td>\n",
              "      <td>13</td>\n",
              "    </tr>\n",
              "    <tr>\n",
              "      <th>4</th>\n",
              "      <td>Kenya</td>\n",
              "      <td>Africa</td>\n",
              "      <td>6.5</td>\n",
              "      <td>27</td>\n",
              "    </tr>\n",
              "    <tr>\n",
              "      <th>5</th>\n",
              "      <td>Liberia</td>\n",
              "      <td>Africa</td>\n",
              "      <td>6.4</td>\n",
              "      <td>6</td>\n",
              "    </tr>\n",
              "    <tr>\n",
              "      <th>6</th>\n",
              "      <td>Mali</td>\n",
              "      <td>Africa</td>\n",
              "      <td>6.8</td>\n",
              "      <td>5</td>\n",
              "    </tr>\n",
              "    <tr>\n",
              "      <th>7</th>\n",
              "      <td>Mauitius</td>\n",
              "      <td>Africa</td>\n",
              "      <td>2.2</td>\n",
              "      <td>75</td>\n",
              "    </tr>\n",
              "    <tr>\n",
              "      <th>8</th>\n",
              "      <td>Niger</td>\n",
              "      <td>Africa</td>\n",
              "      <td>7.3</td>\n",
              "      <td>4</td>\n",
              "    </tr>\n",
              "    <tr>\n",
              "      <th>9</th>\n",
              "      <td>Nigeria</td>\n",
              "      <td>Africa</td>\n",
              "      <td>5.7</td>\n",
              "      <td>6</td>\n",
              "    </tr>\n",
              "    <tr>\n",
              "      <th>10</th>\n",
              "      <td>Senegal</td>\n",
              "      <td>Africa</td>\n",
              "      <td>6.4</td>\n",
              "      <td>12</td>\n",
              "    </tr>\n",
              "    <tr>\n",
              "      <th>11</th>\n",
              "      <td>Sudan</td>\n",
              "      <td>Africa</td>\n",
              "      <td>4.8</td>\n",
              "      <td>9</td>\n",
              "    </tr>\n",
              "    <tr>\n",
              "      <th>12</th>\n",
              "      <td>Swaziland</td>\n",
              "      <td>Africa</td>\n",
              "      <td>5.0</td>\n",
              "      <td>21</td>\n",
              "    </tr>\n",
              "    <tr>\n",
              "      <th>13</th>\n",
              "      <td>Tanzania</td>\n",
              "      <td>Africa</td>\n",
              "      <td>6.1</td>\n",
              "      <td>10</td>\n",
              "    </tr>\n",
              "    <tr>\n",
              "      <th>14</th>\n",
              "      <td>Togo</td>\n",
              "      <td>Africa</td>\n",
              "      <td>6.1</td>\n",
              "      <td>12</td>\n",
              "    </tr>\n",
              "    <tr>\n",
              "      <th>15</th>\n",
              "      <td>Uganda</td>\n",
              "      <td>Africa</td>\n",
              "      <td>7.2</td>\n",
              "      <td>5</td>\n",
              "    </tr>\n",
              "    <tr>\n",
              "      <th>16</th>\n",
              "      <td>Zambia</td>\n",
              "      <td>Africa</td>\n",
              "      <td>6.3</td>\n",
              "      <td>15</td>\n",
              "    </tr>\n",
              "    <tr>\n",
              "      <th>17</th>\n",
              "      <td>Zimbabwe</td>\n",
              "      <td>Africa</td>\n",
              "      <td>5.3</td>\n",
              "      <td>45</td>\n",
              "    </tr>\n",
              "    <tr>\n",
              "      <th>18</th>\n",
              "      <td>Bangladesh</td>\n",
              "      <td>Asia</td>\n",
              "      <td>5.5</td>\n",
              "      <td>40</td>\n",
              "    </tr>\n",
              "    <tr>\n",
              "      <th>19</th>\n",
              "      <td>China</td>\n",
              "      <td>Asia</td>\n",
              "      <td>2.5</td>\n",
              "      <td>72</td>\n",
              "    </tr>\n",
              "    <tr>\n",
              "      <th>20</th>\n",
              "      <td>India</td>\n",
              "      <td>Asia</td>\n",
              "      <td>4.3</td>\n",
              "      <td>45</td>\n",
              "    </tr>\n",
              "    <tr>\n",
              "      <th>21</th>\n",
              "      <td>Indonesia</td>\n",
              "      <td>Asia</td>\n",
              "      <td>3.0</td>\n",
              "      <td>50</td>\n",
              "    </tr>\n",
              "    <tr>\n",
              "      <th>22</th>\n",
              "      <td>Korea.Rep.of</td>\n",
              "      <td>Asia</td>\n",
              "      <td>1.7</td>\n",
              "      <td>77</td>\n",
              "    </tr>\n",
              "    <tr>\n",
              "      <th>23</th>\n",
              "      <td>Pakistan</td>\n",
              "      <td>Asia</td>\n",
              "      <td>5.2</td>\n",
              "      <td>12</td>\n",
              "    </tr>\n",
              "    <tr>\n",
              "      <th>24</th>\n",
              "      <td>Philippines</td>\n",
              "      <td>Asia</td>\n",
              "      <td>4.3</td>\n",
              "      <td>34</td>\n",
              "    </tr>\n",
              "    <tr>\n",
              "      <th>25</th>\n",
              "      <td>Sri.Lanka</td>\n",
              "      <td>Asia</td>\n",
              "      <td>2.7</td>\n",
              "      <td>62</td>\n",
              "    </tr>\n",
              "    <tr>\n",
              "      <th>26</th>\n",
              "      <td>Thailand</td>\n",
              "      <td>Asia</td>\n",
              "      <td>2.3</td>\n",
              "      <td>68</td>\n",
              "    </tr>\n",
              "    <tr>\n",
              "      <th>27</th>\n",
              "      <td>Vietnam</td>\n",
              "      <td>Asia</td>\n",
              "      <td>3.9</td>\n",
              "      <td>53</td>\n",
              "    </tr>\n",
              "    <tr>\n",
              "      <th>28</th>\n",
              "      <td>Belize</td>\n",
              "      <td>Latin.Amer</td>\n",
              "      <td>4.5</td>\n",
              "      <td>47</td>\n",
              "    </tr>\n",
              "    <tr>\n",
              "      <th>29</th>\n",
              "      <td>Bolivia</td>\n",
              "      <td>Latin.Amer</td>\n",
              "      <td>4.9</td>\n",
              "      <td>32</td>\n",
              "    </tr>\n",
              "    <tr>\n",
              "      <th>30</th>\n",
              "      <td>Brazil</td>\n",
              "      <td>Latin.Amer</td>\n",
              "      <td>3.6</td>\n",
              "      <td>66</td>\n",
              "    </tr>\n",
              "    <tr>\n",
              "      <th>31</th>\n",
              "      <td>Columbia</td>\n",
              "      <td>Latin.Amer</td>\n",
              "      <td>2.8</td>\n",
              "      <td>66</td>\n",
              "    </tr>\n",
              "    <tr>\n",
              "      <th>32</th>\n",
              "      <td>Costa.Rica</td>\n",
              "      <td>Latin.Amer</td>\n",
              "      <td>3.6</td>\n",
              "      <td>70</td>\n",
              "    </tr>\n",
              "    <tr>\n",
              "      <th>33</th>\n",
              "      <td>Dom.Republic</td>\n",
              "      <td>Latin.Amer</td>\n",
              "      <td>3.3</td>\n",
              "      <td>56</td>\n",
              "    </tr>\n",
              "    <tr>\n",
              "      <th>34</th>\n",
              "      <td>Ecuador</td>\n",
              "      <td>Latin.Amer</td>\n",
              "      <td>3.8</td>\n",
              "      <td>53</td>\n",
              "    </tr>\n",
              "    <tr>\n",
              "      <th>35</th>\n",
              "      <td>El.Salvador</td>\n",
              "      <td>Latin.Amer</td>\n",
              "      <td>4.6</td>\n",
              "      <td>47</td>\n",
              "    </tr>\n",
              "    <tr>\n",
              "      <th>36</th>\n",
              "      <td>Guatemala</td>\n",
              "      <td>Latin.Amer</td>\n",
              "      <td>5.6</td>\n",
              "      <td>23</td>\n",
              "    </tr>\n",
              "    <tr>\n",
              "      <th>37</th>\n",
              "      <td>Haiti</td>\n",
              "      <td>Latin.Amer</td>\n",
              "      <td>6.0</td>\n",
              "      <td>10</td>\n",
              "    </tr>\n",
              "    <tr>\n",
              "      <th>38</th>\n",
              "      <td>Jamaica</td>\n",
              "      <td>Latin.Amer</td>\n",
              "      <td>2.9</td>\n",
              "      <td>55</td>\n",
              "    </tr>\n",
              "    <tr>\n",
              "      <th>39</th>\n",
              "      <td>Mexico</td>\n",
              "      <td>Latin.Amer</td>\n",
              "      <td>4.0</td>\n",
              "      <td>55</td>\n",
              "    </tr>\n",
              "    <tr>\n",
              "      <th>40</th>\n",
              "      <td>Panama</td>\n",
              "      <td>Latin.Amer</td>\n",
              "      <td>4.0</td>\n",
              "      <td>58</td>\n",
              "    </tr>\n",
              "    <tr>\n",
              "      <th>41</th>\n",
              "      <td>Paraguay</td>\n",
              "      <td>Latin.Amer</td>\n",
              "      <td>4.6</td>\n",
              "      <td>48</td>\n",
              "    </tr>\n",
              "    <tr>\n",
              "      <th>42</th>\n",
              "      <td>Peru</td>\n",
              "      <td>Latin.Amer</td>\n",
              "      <td>3.5</td>\n",
              "      <td>59</td>\n",
              "    </tr>\n",
              "    <tr>\n",
              "      <th>43</th>\n",
              "      <td>Trinidad.Tobago</td>\n",
              "      <td>Latin.Amer</td>\n",
              "      <td>3.1</td>\n",
              "      <td>54</td>\n",
              "    </tr>\n",
              "    <tr>\n",
              "      <th>44</th>\n",
              "      <td>Egypt</td>\n",
              "      <td>Near.East</td>\n",
              "      <td>4.6</td>\n",
              "      <td>40</td>\n",
              "    </tr>\n",
              "    <tr>\n",
              "      <th>45</th>\n",
              "      <td>Jordan</td>\n",
              "      <td>Near.East</td>\n",
              "      <td>5.5</td>\n",
              "      <td>35</td>\n",
              "    </tr>\n",
              "    <tr>\n",
              "      <th>46</th>\n",
              "      <td>Morocco</td>\n",
              "      <td>Near.East</td>\n",
              "      <td>4.0</td>\n",
              "      <td>42</td>\n",
              "    </tr>\n",
              "    <tr>\n",
              "      <th>47</th>\n",
              "      <td>Tunisia</td>\n",
              "      <td>Near.East</td>\n",
              "      <td>4.3</td>\n",
              "      <td>51</td>\n",
              "    </tr>\n",
              "    <tr>\n",
              "      <th>48</th>\n",
              "      <td>Turkey</td>\n",
              "      <td>Near.East</td>\n",
              "      <td>3.4</td>\n",
              "      <td>60</td>\n",
              "    </tr>\n",
              "    <tr>\n",
              "      <th>49</th>\n",
              "      <td>Yemen</td>\n",
              "      <td>Near.East</td>\n",
              "      <td>7.0</td>\n",
              "      <td>7</td>\n",
              "    </tr>\n",
              "  </tbody>\n",
              "</table>\n",
              "</div>"
            ],
            "text/plain": [
              "            country      region  tfr  contraceptors\n",
              "0          Botswana      Africa  4.8             35\n",
              "1           Burundi      Africa  6.5              9\n",
              "2          Cameroon      Africa  5.9             16\n",
              "3             Ghana      Africa  6.1             13\n",
              "4             Kenya      Africa  6.5             27\n",
              "5           Liberia      Africa  6.4              6\n",
              "6              Mali      Africa  6.8              5\n",
              "7          Mauitius      Africa  2.2             75\n",
              "8             Niger      Africa  7.3              4\n",
              "9           Nigeria      Africa  5.7              6\n",
              "10          Senegal      Africa  6.4             12\n",
              "11            Sudan      Africa  4.8              9\n",
              "12        Swaziland      Africa  5.0             21\n",
              "13         Tanzania      Africa  6.1             10\n",
              "14             Togo      Africa  6.1             12\n",
              "15           Uganda      Africa  7.2              5\n",
              "16           Zambia      Africa  6.3             15\n",
              "17         Zimbabwe      Africa  5.3             45\n",
              "18       Bangladesh        Asia  5.5             40\n",
              "19            China        Asia  2.5             72\n",
              "20            India        Asia  4.3             45\n",
              "21        Indonesia        Asia  3.0             50\n",
              "22     Korea.Rep.of        Asia  1.7             77\n",
              "23         Pakistan        Asia  5.2             12\n",
              "24      Philippines        Asia  4.3             34\n",
              "25        Sri.Lanka        Asia  2.7             62\n",
              "26         Thailand        Asia  2.3             68\n",
              "27          Vietnam        Asia  3.9             53\n",
              "28           Belize  Latin.Amer  4.5             47\n",
              "29          Bolivia  Latin.Amer  4.9             32\n",
              "30           Brazil  Latin.Amer  3.6             66\n",
              "31         Columbia  Latin.Amer  2.8             66\n",
              "32       Costa.Rica  Latin.Amer  3.6             70\n",
              "33     Dom.Republic  Latin.Amer  3.3             56\n",
              "34          Ecuador  Latin.Amer  3.8             53\n",
              "35      El.Salvador  Latin.Amer  4.6             47\n",
              "36        Guatemala  Latin.Amer  5.6             23\n",
              "37            Haiti  Latin.Amer  6.0             10\n",
              "38          Jamaica  Latin.Amer  2.9             55\n",
              "39           Mexico  Latin.Amer  4.0             55\n",
              "40           Panama  Latin.Amer  4.0             58\n",
              "41         Paraguay  Latin.Amer  4.6             48\n",
              "42             Peru  Latin.Amer  3.5             59\n",
              "43  Trinidad.Tobago  Latin.Amer  3.1             54\n",
              "44            Egypt   Near.East  4.6             40\n",
              "45           Jordan   Near.East  5.5             35\n",
              "46          Morocco   Near.East  4.0             42\n",
              "47          Tunisia   Near.East  4.3             51\n",
              "48           Turkey   Near.East  3.4             60\n",
              "49            Yemen   Near.East  7.0              7"
            ]
          },
          "metadata": {
            "tags": []
          },
          "execution_count": 22
        }
      ]
    },
    {
      "cell_type": "markdown",
      "metadata": {
        "id": "k37FegZye1bu",
        "colab_type": "text"
      },
      "source": [
        "## Basic Query using Pandas"
      ]
    },
    {
      "cell_type": "code",
      "metadata": {
        "id": "JZYXELY0bdK2",
        "colab_type": "code",
        "colab": {
          "base_uri": "https://localhost:8080/",
          "height": 80
        },
        "outputId": "577f8f19-3854-4568-9472-807e9d0d8bc3"
      },
      "source": [
        "# SELECT * from country='Vietnam'\n",
        "df[df['country'] == \"Vietnam\"]"
      ],
      "execution_count": 23,
      "outputs": [
        {
          "output_type": "execute_result",
          "data": {
            "text/html": [
              "<div>\n",
              "<style scoped>\n",
              "    .dataframe tbody tr th:only-of-type {\n",
              "        vertical-align: middle;\n",
              "    }\n",
              "\n",
              "    .dataframe tbody tr th {\n",
              "        vertical-align: top;\n",
              "    }\n",
              "\n",
              "    .dataframe thead th {\n",
              "        text-align: right;\n",
              "    }\n",
              "</style>\n",
              "<table border=\"1\" class=\"dataframe\">\n",
              "  <thead>\n",
              "    <tr style=\"text-align: right;\">\n",
              "      <th></th>\n",
              "      <th>country</th>\n",
              "      <th>region</th>\n",
              "      <th>tfr</th>\n",
              "      <th>contraceptors</th>\n",
              "    </tr>\n",
              "  </thead>\n",
              "  <tbody>\n",
              "    <tr>\n",
              "      <th>27</th>\n",
              "      <td>Vietnam</td>\n",
              "      <td>Asia</td>\n",
              "      <td>3.9</td>\n",
              "      <td>53</td>\n",
              "    </tr>\n",
              "  </tbody>\n",
              "</table>\n",
              "</div>"
            ],
            "text/plain": [
              "    country region  tfr  contraceptors\n",
              "27  Vietnam   Asia  3.9             53"
            ]
          },
          "metadata": {
            "tags": []
          },
          "execution_count": 23
        }
      ]
    },
    {
      "cell_type": "code",
      "metadata": {
        "id": "KnR63ZLyb95E",
        "colab_type": "code",
        "colab": {
          "base_uri": "https://localhost:8080/",
          "height": 102
        },
        "outputId": "632c3e1c-b89e-4050-cb7c-d9bb6e84bfe8"
      },
      "source": [
        "# COUNT *\n",
        "df.count()"
      ],
      "execution_count": 24,
      "outputs": [
        {
          "output_type": "execute_result",
          "data": {
            "text/plain": [
              "country          50\n",
              "region           50\n",
              "tfr              50\n",
              "contraceptors    50\n",
              "dtype: int64"
            ]
          },
          "metadata": {
            "tags": []
          },
          "execution_count": 24
        }
      ]
    },
    {
      "cell_type": "code",
      "metadata": {
        "id": "Nt9FalJacKkL",
        "colab_type": "code",
        "colab": {
          "base_uri": "https://localhost:8080/",
          "height": 119
        },
        "outputId": "ec1bb43f-7e43-4a5d-f8f7-24bb18998e64"
      },
      "source": [
        "# COUNT Country GroupBy Region\n",
        "a = df.groupby('region')['country'].count()\n",
        "print(a)"
      ],
      "execution_count": 26,
      "outputs": [
        {
          "output_type": "stream",
          "text": [
            "region\n",
            "Africa        18\n",
            "Asia          10\n",
            "Latin.Amer    16\n",
            "Near.East      6\n",
            "Name: country, dtype: int64\n"
          ],
          "name": "stdout"
        }
      ]
    },
    {
      "cell_type": "code",
      "metadata": {
        "id": "ss7C6YZFdHSy",
        "colab_type": "code",
        "colab": {
          "base_uri": "https://localhost:8080/",
          "height": 341
        },
        "outputId": "fb241772-50d9-407b-e028-65a56ae77b72"
      },
      "source": [
        "a.plot(kind='bar')"
      ],
      "execution_count": null,
      "outputs": [
        {
          "output_type": "execute_result",
          "data": {
            "text/plain": [
              "<matplotlib.axes._subplots.AxesSubplot at 0x7ff98a662cf8>"
            ]
          },
          "metadata": {
            "tags": []
          },
          "execution_count": 50
        },
        {
          "output_type": "display_data",
          "data": {
            "image/png": "[encoded data removed]",
            "text/plain": [
              "<Figure size 432x288 with 1 Axes>"
            ]
          },
          "metadata": {
            "tags": [],
            "needs_background": "light"
          }
        }
      ]
    },
    {
      "cell_type": "code",
      "metadata": {
        "id": "ILwDLlL0ci3r",
        "colab_type": "code",
        "colab": {
          "base_uri": "https://localhost:8080/",
          "height": 204
        },
        "outputId": "cf9cdbd8-d639-40a9-d5de-18a2bdd2056f"
      },
      "source": [
        "# SELECT * FROM tft >= 5.5 and tfr <=7 and region != Africa\n",
        "b = df.loc[((df['tfr'] >= 5.5) & (df['tfr'] <= 7)) & (df['region'] !='Africa')]\n",
        "b"
      ],
      "execution_count": 27,
      "outputs": [
        {
          "output_type": "execute_result",
          "data": {
            "text/html": [
              "<div>\n",
              "<style scoped>\n",
              "    .dataframe tbody tr th:only-of-type {\n",
              "        vertical-align: middle;\n",
              "    }\n",
              "\n",
              "    .dataframe tbody tr th {\n",
              "        vertical-align: top;\n",
              "    }\n",
              "\n",
              "    .dataframe thead th {\n",
              "        text-align: right;\n",
              "    }\n",
              "</style>\n",
              "<table border=\"1\" class=\"dataframe\">\n",
              "  <thead>\n",
              "    <tr style=\"text-align: right;\">\n",
              "      <th></th>\n",
              "      <th>country</th>\n",
              "      <th>region</th>\n",
              "      <th>tfr</th>\n",
              "      <th>contraceptors</th>\n",
              "    </tr>\n",
              "  </thead>\n",
              "  <tbody>\n",
              "    <tr>\n",
              "      <th>18</th>\n",
              "      <td>Bangladesh</td>\n",
              "      <td>Asia</td>\n",
              "      <td>5.5</td>\n",
              "      <td>40</td>\n",
              "    </tr>\n",
              "    <tr>\n",
              "      <th>36</th>\n",
              "      <td>Guatemala</td>\n",
              "      <td>Latin.Amer</td>\n",
              "      <td>5.6</td>\n",
              "      <td>23</td>\n",
              "    </tr>\n",
              "    <tr>\n",
              "      <th>37</th>\n",
              "      <td>Haiti</td>\n",
              "      <td>Latin.Amer</td>\n",
              "      <td>6.0</td>\n",
              "      <td>10</td>\n",
              "    </tr>\n",
              "    <tr>\n",
              "      <th>45</th>\n",
              "      <td>Jordan</td>\n",
              "      <td>Near.East</td>\n",
              "      <td>5.5</td>\n",
              "      <td>35</td>\n",
              "    </tr>\n",
              "    <tr>\n",
              "      <th>49</th>\n",
              "      <td>Yemen</td>\n",
              "      <td>Near.East</td>\n",
              "      <td>7.0</td>\n",
              "      <td>7</td>\n",
              "    </tr>\n",
              "  </tbody>\n",
              "</table>\n",
              "</div>"
            ],
            "text/plain": [
              "       country      region  tfr  contraceptors\n",
              "18  Bangladesh        Asia  5.5             40\n",
              "36   Guatemala  Latin.Amer  5.6             23\n",
              "37       Haiti  Latin.Amer  6.0             10\n",
              "45      Jordan   Near.East  5.5             35\n",
              "49       Yemen   Near.East  7.0              7"
            ]
          },
          "metadata": {
            "tags": []
          },
          "execution_count": 27
        }
      ]
    },
    {
      "cell_type": "code",
      "metadata": {
        "id": "L8Zh_DlqdyxX",
        "colab_type": "code",
        "colab": {
          "base_uri": "https://localhost:8080/",
          "height": 296
        },
        "outputId": "de39541f-b40b-4b69-9419-bd8ce491aa7f"
      },
      "source": [
        "b.plot(x = 'country', y='tfr')"
      ],
      "execution_count": null,
      "outputs": [
        {
          "output_type": "execute_result",
          "data": {
            "text/plain": [
              "<matplotlib.axes._subplots.AxesSubplot at 0x7ff988db1da0>"
            ]
          },
          "metadata": {
            "tags": []
          },
          "execution_count": 52
        },
        {
          "output_type": "display_data",
          "data": {
            "image/png": "[encoded data removed]",
            "text/plain": [
              "<Figure size 432x288 with 1 Axes>"
            ]
          },
          "metadata": {
            "tags": [],
            "needs_background": "light"
          }
        }
      ]
    },
    {
      "cell_type": "markdown",
      "metadata": {
        "id": "Zf4h13_pe6Xv",
        "colab_type": "text"
      },
      "source": [
        "## Pandas to SQLite"
      ]
    },
    {
      "cell_type": "code",
      "metadata": {
        "id": "RonEowhXe57U",
        "colab_type": "code",
        "colab": {}
      },
      "source": [
        "conn = sql.connect('robey.db')\n",
        "df.to_sql('robey', conn)"
      ],
      "execution_count": 28,
      "outputs": []
    },
    {
      "cell_type": "code",
      "metadata": {
        "id": "phS5EQiDfcwE",
        "colab_type": "code",
        "colab": {}
      },
      "source": [
        "conn = sql.connect('robey.db')"
      ],
      "execution_count": 58,
      "outputs": []
    },
    {
      "cell_type": "code",
      "metadata": {
        "id": "WbqBWqUMfiX0",
        "colab_type": "code",
        "colab": {
          "base_uri": "https://localhost:8080/",
          "height": 359
        },
        "outputId": "e94c5302-51cc-46ad-9455-011b243aa066"
      },
      "source": [
        "robey = pd.read_sql('SELECT * FROM robey', conn)\n",
        "robey.head(10)"
      ],
      "execution_count": 59,
      "outputs": [
        {
          "output_type": "execute_result",
          "data": {
            "text/html": [
              "<div>\n",
              "<style scoped>\n",
              "    .dataframe tbody tr th:only-of-type {\n",
              "        vertical-align: middle;\n",
              "    }\n",
              "\n",
              "    .dataframe tbody tr th {\n",
              "        vertical-align: top;\n",
              "    }\n",
              "\n",
              "    .dataframe thead th {\n",
              "        text-align: right;\n",
              "    }\n",
              "</style>\n",
              "<table border=\"1\" class=\"dataframe\">\n",
              "  <thead>\n",
              "    <tr style=\"text-align: right;\">\n",
              "      <th></th>\n",
              "      <th>index</th>\n",
              "      <th>country</th>\n",
              "      <th>region</th>\n",
              "      <th>tfr</th>\n",
              "      <th>contraceptors</th>\n",
              "    </tr>\n",
              "  </thead>\n",
              "  <tbody>\n",
              "    <tr>\n",
              "      <th>0</th>\n",
              "      <td>0</td>\n",
              "      <td>Botswana</td>\n",
              "      <td>Africa</td>\n",
              "      <td>4.8</td>\n",
              "      <td>35</td>\n",
              "    </tr>\n",
              "    <tr>\n",
              "      <th>1</th>\n",
              "      <td>1</td>\n",
              "      <td>Burundi</td>\n",
              "      <td>Africa</td>\n",
              "      <td>6.5</td>\n",
              "      <td>9</td>\n",
              "    </tr>\n",
              "    <tr>\n",
              "      <th>2</th>\n",
              "      <td>2</td>\n",
              "      <td>Cameroon</td>\n",
              "      <td>Africa</td>\n",
              "      <td>5.9</td>\n",
              "      <td>16</td>\n",
              "    </tr>\n",
              "    <tr>\n",
              "      <th>3</th>\n",
              "      <td>3</td>\n",
              "      <td>Ghana</td>\n",
              "      <td>Africa</td>\n",
              "      <td>6.1</td>\n",
              "      <td>13</td>\n",
              "    </tr>\n",
              "    <tr>\n",
              "      <th>4</th>\n",
              "      <td>4</td>\n",
              "      <td>Kenya</td>\n",
              "      <td>Africa</td>\n",
              "      <td>6.5</td>\n",
              "      <td>27</td>\n",
              "    </tr>\n",
              "    <tr>\n",
              "      <th>5</th>\n",
              "      <td>5</td>\n",
              "      <td>Liberia</td>\n",
              "      <td>Africa</td>\n",
              "      <td>6.4</td>\n",
              "      <td>6</td>\n",
              "    </tr>\n",
              "    <tr>\n",
              "      <th>6</th>\n",
              "      <td>6</td>\n",
              "      <td>Mali</td>\n",
              "      <td>Africa</td>\n",
              "      <td>6.8</td>\n",
              "      <td>5</td>\n",
              "    </tr>\n",
              "    <tr>\n",
              "      <th>7</th>\n",
              "      <td>7</td>\n",
              "      <td>Mauitius</td>\n",
              "      <td>Africa</td>\n",
              "      <td>2.2</td>\n",
              "      <td>75</td>\n",
              "    </tr>\n",
              "    <tr>\n",
              "      <th>8</th>\n",
              "      <td>8</td>\n",
              "      <td>Niger</td>\n",
              "      <td>Africa</td>\n",
              "      <td>7.3</td>\n",
              "      <td>4</td>\n",
              "    </tr>\n",
              "    <tr>\n",
              "      <th>9</th>\n",
              "      <td>9</td>\n",
              "      <td>Nigeria</td>\n",
              "      <td>Africa</td>\n",
              "      <td>5.7</td>\n",
              "      <td>6</td>\n",
              "    </tr>\n",
              "  </tbody>\n",
              "</table>\n",
              "</div>"
            ],
            "text/plain": [
              "   index   country  region  tfr  contraceptors\n",
              "0      0  Botswana  Africa  4.8             35\n",
              "1      1   Burundi  Africa  6.5              9\n",
              "2      2  Cameroon  Africa  5.9             16\n",
              "3      3     Ghana  Africa  6.1             13\n",
              "4      4     Kenya  Africa  6.5             27\n",
              "5      5   Liberia  Africa  6.4              6\n",
              "6      6      Mali  Africa  6.8              5\n",
              "7      7  Mauitius  Africa  2.2             75\n",
              "8      8     Niger  Africa  7.3              4\n",
              "9      9   Nigeria  Africa  5.7              6"
            ]
          },
          "metadata": {
            "tags": []
          },
          "execution_count": 59
        }
      ]
    },
    {
      "cell_type": "code",
      "metadata": {
        "id": "UITygfhLfqLx",
        "colab_type": "code",
        "colab": {
          "base_uri": "https://localhost:8080/",
          "height": 80
        },
        "outputId": "1514c10b-f3cf-458a-a6d3-ab3246509238"
      },
      "source": [
        "pd.read_sql('SELECT * FROM robey WHERE country=\"Vietnam\"', conn)"
      ],
      "execution_count": 60,
      "outputs": [
        {
          "output_type": "execute_result",
          "data": {
            "text/html": [
              "<div>\n",
              "<style scoped>\n",
              "    .dataframe tbody tr th:only-of-type {\n",
              "        vertical-align: middle;\n",
              "    }\n",
              "\n",
              "    .dataframe tbody tr th {\n",
              "        vertical-align: top;\n",
              "    }\n",
              "\n",
              "    .dataframe thead th {\n",
              "        text-align: right;\n",
              "    }\n",
              "</style>\n",
              "<table border=\"1\" class=\"dataframe\">\n",
              "  <thead>\n",
              "    <tr style=\"text-align: right;\">\n",
              "      <th></th>\n",
              "      <th>index</th>\n",
              "      <th>country</th>\n",
              "      <th>region</th>\n",
              "      <th>tfr</th>\n",
              "      <th>contraceptors</th>\n",
              "    </tr>\n",
              "  </thead>\n",
              "  <tbody>\n",
              "    <tr>\n",
              "      <th>0</th>\n",
              "      <td>27</td>\n",
              "      <td>Vietnam</td>\n",
              "      <td>Asia</td>\n",
              "      <td>3.9</td>\n",
              "      <td>53</td>\n",
              "    </tr>\n",
              "  </tbody>\n",
              "</table>\n",
              "</div>"
            ],
            "text/plain": [
              "   index  country region  tfr  contraceptors\n",
              "0     27  Vietnam   Asia  3.9             53"
            ]
          },
          "metadata": {
            "tags": []
          },
          "execution_count": 60
        }
      ]
    },
    {
      "cell_type": "code",
      "metadata": {
        "id": "CeuHvOoLfyaR",
        "colab_type": "code",
        "colab": {
          "base_uri": "https://localhost:8080/",
          "height": 80
        },
        "outputId": "323124b7-479f-43e5-a7c1-7084e2b0d206"
      },
      "source": [
        "pd.read_sql('''SELECT COUNT(country) AS country, \n",
        "COUNT(region) AS region,\n",
        "COUNT(tfr) AS tfr,\n",
        "COUNT(contraceptors) AS contraceptors\n",
        "FROM robey''', conn)"
      ],
      "execution_count": 61,
      "outputs": [
        {
          "output_type": "execute_result",
          "data": {
            "text/html": [
              "<div>\n",
              "<style scoped>\n",
              "    .dataframe tbody tr th:only-of-type {\n",
              "        vertical-align: middle;\n",
              "    }\n",
              "\n",
              "    .dataframe tbody tr th {\n",
              "        vertical-align: top;\n",
              "    }\n",
              "\n",
              "    .dataframe thead th {\n",
              "        text-align: right;\n",
              "    }\n",
              "</style>\n",
              "<table border=\"1\" class=\"dataframe\">\n",
              "  <thead>\n",
              "    <tr style=\"text-align: right;\">\n",
              "      <th></th>\n",
              "      <th>country</th>\n",
              "      <th>region</th>\n",
              "      <th>tfr</th>\n",
              "      <th>contraceptors</th>\n",
              "    </tr>\n",
              "  </thead>\n",
              "  <tbody>\n",
              "    <tr>\n",
              "      <th>0</th>\n",
              "      <td>50</td>\n",
              "      <td>50</td>\n",
              "      <td>50</td>\n",
              "      <td>50</td>\n",
              "    </tr>\n",
              "  </tbody>\n",
              "</table>\n",
              "</div>"
            ],
            "text/plain": [
              "   country  region  tfr  contraceptors\n",
              "0       50      50   50             50"
            ]
          },
          "metadata": {
            "tags": []
          },
          "execution_count": 61
        }
      ]
    },
    {
      "cell_type": "code",
      "metadata": {
        "id": "CzUI8G-lgMpT",
        "colab_type": "code",
        "colab": {
          "base_uri": "https://localhost:8080/",
          "height": 173
        },
        "outputId": "a2783513-96eb-4656-cc4a-91ae6f2898f7"
      },
      "source": [
        "r = pd.read_sql('''SELECT region, COUNT(country) AS count\n",
        "FROM robey\n",
        "GROUP BY region''', conn)\n",
        "r"
      ],
      "execution_count": 62,
      "outputs": [
        {
          "output_type": "execute_result",
          "data": {
            "text/html": [
              "<div>\n",
              "<style scoped>\n",
              "    .dataframe tbody tr th:only-of-type {\n",
              "        vertical-align: middle;\n",
              "    }\n",
              "\n",
              "    .dataframe tbody tr th {\n",
              "        vertical-align: top;\n",
              "    }\n",
              "\n",
              "    .dataframe thead th {\n",
              "        text-align: right;\n",
              "    }\n",
              "</style>\n",
              "<table border=\"1\" class=\"dataframe\">\n",
              "  <thead>\n",
              "    <tr style=\"text-align: right;\">\n",
              "      <th></th>\n",
              "      <th>region</th>\n",
              "      <th>count</th>\n",
              "    </tr>\n",
              "  </thead>\n",
              "  <tbody>\n",
              "    <tr>\n",
              "      <th>0</th>\n",
              "      <td>Africa</td>\n",
              "      <td>18</td>\n",
              "    </tr>\n",
              "    <tr>\n",
              "      <th>1</th>\n",
              "      <td>Asia</td>\n",
              "      <td>10</td>\n",
              "    </tr>\n",
              "    <tr>\n",
              "      <th>2</th>\n",
              "      <td>Latin.Amer</td>\n",
              "      <td>16</td>\n",
              "    </tr>\n",
              "    <tr>\n",
              "      <th>3</th>\n",
              "      <td>Near.East</td>\n",
              "      <td>6</td>\n",
              "    </tr>\n",
              "  </tbody>\n",
              "</table>\n",
              "</div>"
            ],
            "text/plain": [
              "       region  count\n",
              "0      Africa     18\n",
              "1        Asia     10\n",
              "2  Latin.Amer     16\n",
              "3   Near.East      6"
            ]
          },
          "metadata": {
            "tags": []
          },
          "execution_count": 62
        }
      ]
    },
    {
      "cell_type": "code",
      "metadata": {
        "id": "3D0TkcVDhCuc",
        "colab_type": "code",
        "colab": {
          "base_uri": "https://localhost:8080/",
          "height": 341
        },
        "outputId": "e85e6e0f-c898-4ad6-f557-a48992d60026"
      },
      "source": [
        "r.plot(kind='bar', x='region')"
      ],
      "execution_count": 63,
      "outputs": [
        {
          "output_type": "execute_result",
          "data": {
            "text/plain": [
              "<matplotlib.axes._subplots.AxesSubplot at 0x7eff202f8cc0>"
            ]
          },
          "metadata": {
            "tags": []
          },
          "execution_count": 63
        },
        {
          "output_type": "display_data",
          "data": {
            "image/png": "[encoded data removed]",
            "text/plain": [
              "<Figure size 432x288 with 1 Axes>"
            ]
          },
          "metadata": {
            "tags": [],
            "needs_background": "light"
          }
        }
      ]
    },
    {
      "cell_type": "code",
      "metadata": {
        "id": "QDyltnw0jiLl",
        "colab_type": "code",
        "colab": {
          "base_uri": "https://localhost:8080/",
          "height": 204
        },
        "outputId": "3a1010be-42a6-44b3-9db1-71e07d64265a"
      },
      "source": [
        "r = pd.read_sql('''SELECT *\n",
        "FROM robey\n",
        "WHERE tfr >= 5.5 AND tfr <=7 AND region != \"Africa\"''', conn)\n",
        "r"
      ],
      "execution_count": 75,
      "outputs": [
        {
          "output_type": "execute_result",
          "data": {
            "text/html": [
              "<div>\n",
              "<style scoped>\n",
              "    .dataframe tbody tr th:only-of-type {\n",
              "        vertical-align: middle;\n",
              "    }\n",
              "\n",
              "    .dataframe tbody tr th {\n",
              "        vertical-align: top;\n",
              "    }\n",
              "\n",
              "    .dataframe thead th {\n",
              "        text-align: right;\n",
              "    }\n",
              "</style>\n",
              "<table border=\"1\" class=\"dataframe\">\n",
              "  <thead>\n",
              "    <tr style=\"text-align: right;\">\n",
              "      <th></th>\n",
              "      <th>index</th>\n",
              "      <th>country</th>\n",
              "      <th>region</th>\n",
              "      <th>tfr</th>\n",
              "      <th>contraceptors</th>\n",
              "    </tr>\n",
              "  </thead>\n",
              "  <tbody>\n",
              "    <tr>\n",
              "      <th>0</th>\n",
              "      <td>18</td>\n",
              "      <td>Bangladesh</td>\n",
              "      <td>Asia</td>\n",
              "      <td>5.5</td>\n",
              "      <td>40</td>\n",
              "    </tr>\n",
              "    <tr>\n",
              "      <th>1</th>\n",
              "      <td>36</td>\n",
              "      <td>Guatemala</td>\n",
              "      <td>Latin.Amer</td>\n",
              "      <td>5.6</td>\n",
              "      <td>23</td>\n",
              "    </tr>\n",
              "    <tr>\n",
              "      <th>2</th>\n",
              "      <td>37</td>\n",
              "      <td>Haiti</td>\n",
              "      <td>Latin.Amer</td>\n",
              "      <td>6.0</td>\n",
              "      <td>10</td>\n",
              "    </tr>\n",
              "    <tr>\n",
              "      <th>3</th>\n",
              "      <td>45</td>\n",
              "      <td>Jordan</td>\n",
              "      <td>Near.East</td>\n",
              "      <td>5.5</td>\n",
              "      <td>35</td>\n",
              "    </tr>\n",
              "    <tr>\n",
              "      <th>4</th>\n",
              "      <td>49</td>\n",
              "      <td>Yemen</td>\n",
              "      <td>Near.East</td>\n",
              "      <td>7.0</td>\n",
              "      <td>7</td>\n",
              "    </tr>\n",
              "  </tbody>\n",
              "</table>\n",
              "</div>"
            ],
            "text/plain": [
              "   index     country      region  tfr  contraceptors\n",
              "0     18  Bangladesh        Asia  5.5             40\n",
              "1     36   Guatemala  Latin.Amer  5.6             23\n",
              "2     37       Haiti  Latin.Amer  6.0             10\n",
              "3     45      Jordan   Near.East  5.5             35\n",
              "4     49       Yemen   Near.East  7.0              7"
            ]
          },
          "metadata": {
            "tags": []
          },
          "execution_count": 75
        }
      ]
    },
    {
      "cell_type": "code",
      "metadata": {
        "id": "rkwsbXnwkAQO",
        "colab_type": "code",
        "colab": {
          "base_uri": "https://localhost:8080/",
          "height": 296
        },
        "outputId": "4e6b9d22-d5c7-42ec-8e12-d464d10a7156"
      },
      "source": [
        "r.plot(x='country', y='tfr')"
      ],
      "execution_count": 78,
      "outputs": [
        {
          "output_type": "execute_result",
          "data": {
            "text/plain": [
              "<matplotlib.axes._subplots.AxesSubplot at 0x7eff200d1128>"
            ]
          },
          "metadata": {
            "tags": []
          },
          "execution_count": 78
        },
        {
          "output_type": "display_data",
          "data": {
            "image/png": "[encoded data removed]",
            "text/plain": [
              "<Figure size 432x288 with 1 Axes>"
            ]
          },
          "metadata": {
            "tags": [],
            "needs_background": "light"
          }
        }
      ]
    }
  ]
}